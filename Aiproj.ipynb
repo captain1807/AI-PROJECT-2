{
  "cells": [
    {
      "cell_type": "markdown",
      "metadata": {
        "id": "1b18ce03"
      },
      "source": [
        "Task 1\n"
      ],
      "id": "1b18ce03"
    },
    {
      "cell_type": "code",
      "execution_count": 3,
      "metadata": {
        "id": "2c4bf2ac"
      },
      "outputs": [],
      "source": [
        "# Importing Libraries\n",
        "import pandas as pd\n",
        "import numpy as np\n",
        "import matplotlib.pyplot as plt\n",
        "import seaborn as sns"
      ],
      "id": "2c4bf2ac"
    },
    {
      "cell_type": "code",
      "execution_count": 4,
      "metadata": {
        "id": "uEBP7W8EPBdI",
        "colab": {
          "base_uri": "https://localhost:8080/"
        },
        "outputId": "c820faab-f1e6-4209-8acd-e4017ac23def"
      },
      "outputs": [
        {
          "output_type": "stream",
          "name": "stdout",
          "text": [
            "Mounted at /content/drive\n"
          ]
        }
      ],
      "source": [
        "from google.colab import drive\n",
        "drive.mount('/content/drive')"
      ],
      "id": "uEBP7W8EPBdI"
    },
    {
      "cell_type": "code",
      "execution_count": 5,
      "metadata": {
        "id": "c8aa6a5f"
      },
      "outputs": [],
      "source": [
        "# Importing Data\n",
        "# Load the dataset from UCI Machine Learning Repository\n",
        "# Dataset: Bank Marketing Datasethttps://archive.ics.uci.edu/ml/machine-learning-databases/00222/bank.csv\n",
        "bank_data = pd.read_csv(\"/content/drive/MyDrive/AI/bank.csv\", sep=\";\")"
      ],
      "id": "c8aa6a5f"
    },
    {
      "cell_type": "code",
      "execution_count": 6,
      "metadata": {
        "colab": {
          "base_uri": "https://localhost:8080/",
          "height": 505
        },
        "id": "91026178",
        "outputId": "28fbebc5-17c1-4db4-a03e-28370c4a6cb0"
      },
      "outputs": [
        {
          "output_type": "execute_result",
          "data": {
            "text/plain": [
              "      age            job  marital  education default  balance housing loan  \\\n",
              "0      30     unemployed  married    primary      no     1787      no   no   \n",
              "1      33       services  married  secondary      no     4789     yes  yes   \n",
              "2      35     management   single   tertiary      no     1350     yes   no   \n",
              "3      30     management  married   tertiary      no     1476     yes  yes   \n",
              "4      59    blue-collar  married  secondary      no        0     yes   no   \n",
              "...   ...            ...      ...        ...     ...      ...     ...  ...   \n",
              "4516   33       services  married  secondary      no     -333     yes   no   \n",
              "4517   57  self-employed  married   tertiary     yes    -3313     yes  yes   \n",
              "4518   57     technician  married  secondary      no      295      no   no   \n",
              "4519   28    blue-collar  married  secondary      no     1137      no   no   \n",
              "4520   44   entrepreneur   single   tertiary      no     1136     yes  yes   \n",
              "\n",
              "       contact  day month  duration  campaign  pdays  previous poutcome   y  \n",
              "0     cellular   19   oct        79         1     -1         0  unknown  no  \n",
              "1     cellular   11   may       220         1    339         4  failure  no  \n",
              "2     cellular   16   apr       185         1    330         1  failure  no  \n",
              "3      unknown    3   jun       199         4     -1         0  unknown  no  \n",
              "4      unknown    5   may       226         1     -1         0  unknown  no  \n",
              "...        ...  ...   ...       ...       ...    ...       ...      ...  ..  \n",
              "4516  cellular   30   jul       329         5     -1         0  unknown  no  \n",
              "4517   unknown    9   may       153         1     -1         0  unknown  no  \n",
              "4518  cellular   19   aug       151        11     -1         0  unknown  no  \n",
              "4519  cellular    6   feb       129         4    211         3    other  no  \n",
              "4520  cellular    3   apr       345         2    249         7    other  no  \n",
              "\n",
              "[4521 rows x 17 columns]"
            ],
            "text/html": [
              "\n",
              "  <div id=\"df-a6a60663-b572-498e-ae98-9dcc3e115efa\">\n",
              "    <div class=\"colab-df-container\">\n",
              "      <div>\n",
              "<style scoped>\n",
              "    .dataframe tbody tr th:only-of-type {\n",
              "        vertical-align: middle;\n",
              "    }\n",
              "\n",
              "    .dataframe tbody tr th {\n",
              "        vertical-align: top;\n",
              "    }\n",
              "\n",
              "    .dataframe thead th {\n",
              "        text-align: right;\n",
              "    }\n",
              "</style>\n",
              "<table border=\"1\" class=\"dataframe\">\n",
              "  <thead>\n",
              "    <tr style=\"text-align: right;\">\n",
              "      <th></th>\n",
              "      <th>age</th>\n",
              "      <th>job</th>\n",
              "      <th>marital</th>\n",
              "      <th>education</th>\n",
              "      <th>default</th>\n",
              "      <th>balance</th>\n",
              "      <th>housing</th>\n",
              "      <th>loan</th>\n",
              "      <th>contact</th>\n",
              "      <th>day</th>\n",
              "      <th>month</th>\n",
              "      <th>duration</th>\n",
              "      <th>campaign</th>\n",
              "      <th>pdays</th>\n",
              "      <th>previous</th>\n",
              "      <th>poutcome</th>\n",
              "      <th>y</th>\n",
              "    </tr>\n",
              "  </thead>\n",
              "  <tbody>\n",
              "    <tr>\n",
              "      <th>0</th>\n",
              "      <td>30</td>\n",
              "      <td>unemployed</td>\n",
              "      <td>married</td>\n",
              "      <td>primary</td>\n",
              "      <td>no</td>\n",
              "      <td>1787</td>\n",
              "      <td>no</td>\n",
              "      <td>no</td>\n",
              "      <td>cellular</td>\n",
              "      <td>19</td>\n",
              "      <td>oct</td>\n",
              "      <td>79</td>\n",
              "      <td>1</td>\n",
              "      <td>-1</td>\n",
              "      <td>0</td>\n",
              "      <td>unknown</td>\n",
              "      <td>no</td>\n",
              "    </tr>\n",
              "    <tr>\n",
              "      <th>1</th>\n",
              "      <td>33</td>\n",
              "      <td>services</td>\n",
              "      <td>married</td>\n",
              "      <td>secondary</td>\n",
              "      <td>no</td>\n",
              "      <td>4789</td>\n",
              "      <td>yes</td>\n",
              "      <td>yes</td>\n",
              "      <td>cellular</td>\n",
              "      <td>11</td>\n",
              "      <td>may</td>\n",
              "      <td>220</td>\n",
              "      <td>1</td>\n",
              "      <td>339</td>\n",
              "      <td>4</td>\n",
              "      <td>failure</td>\n",
              "      <td>no</td>\n",
              "    </tr>\n",
              "    <tr>\n",
              "      <th>2</th>\n",
              "      <td>35</td>\n",
              "      <td>management</td>\n",
              "      <td>single</td>\n",
              "      <td>tertiary</td>\n",
              "      <td>no</td>\n",
              "      <td>1350</td>\n",
              "      <td>yes</td>\n",
              "      <td>no</td>\n",
              "      <td>cellular</td>\n",
              "      <td>16</td>\n",
              "      <td>apr</td>\n",
              "      <td>185</td>\n",
              "      <td>1</td>\n",
              "      <td>330</td>\n",
              "      <td>1</td>\n",
              "      <td>failure</td>\n",
              "      <td>no</td>\n",
              "    </tr>\n",
              "    <tr>\n",
              "      <th>3</th>\n",
              "      <td>30</td>\n",
              "      <td>management</td>\n",
              "      <td>married</td>\n",
              "      <td>tertiary</td>\n",
              "      <td>no</td>\n",
              "      <td>1476</td>\n",
              "      <td>yes</td>\n",
              "      <td>yes</td>\n",
              "      <td>unknown</td>\n",
              "      <td>3</td>\n",
              "      <td>jun</td>\n",
              "      <td>199</td>\n",
              "      <td>4</td>\n",
              "      <td>-1</td>\n",
              "      <td>0</td>\n",
              "      <td>unknown</td>\n",
              "      <td>no</td>\n",
              "    </tr>\n",
              "    <tr>\n",
              "      <th>4</th>\n",
              "      <td>59</td>\n",
              "      <td>blue-collar</td>\n",
              "      <td>married</td>\n",
              "      <td>secondary</td>\n",
              "      <td>no</td>\n",
              "      <td>0</td>\n",
              "      <td>yes</td>\n",
              "      <td>no</td>\n",
              "      <td>unknown</td>\n",
              "      <td>5</td>\n",
              "      <td>may</td>\n",
              "      <td>226</td>\n",
              "      <td>1</td>\n",
              "      <td>-1</td>\n",
              "      <td>0</td>\n",
              "      <td>unknown</td>\n",
              "      <td>no</td>\n",
              "    </tr>\n",
              "    <tr>\n",
              "      <th>...</th>\n",
              "      <td>...</td>\n",
              "      <td>...</td>\n",
              "      <td>...</td>\n",
              "      <td>...</td>\n",
              "      <td>...</td>\n",
              "      <td>...</td>\n",
              "      <td>...</td>\n",
              "      <td>...</td>\n",
              "      <td>...</td>\n",
              "      <td>...</td>\n",
              "      <td>...</td>\n",
              "      <td>...</td>\n",
              "      <td>...</td>\n",
              "      <td>...</td>\n",
              "      <td>...</td>\n",
              "      <td>...</td>\n",
              "      <td>...</td>\n",
              "    </tr>\n",
              "    <tr>\n",
              "      <th>4516</th>\n",
              "      <td>33</td>\n",
              "      <td>services</td>\n",
              "      <td>married</td>\n",
              "      <td>secondary</td>\n",
              "      <td>no</td>\n",
              "      <td>-333</td>\n",
              "      <td>yes</td>\n",
              "      <td>no</td>\n",
              "      <td>cellular</td>\n",
              "      <td>30</td>\n",
              "      <td>jul</td>\n",
              "      <td>329</td>\n",
              "      <td>5</td>\n",
              "      <td>-1</td>\n",
              "      <td>0</td>\n",
              "      <td>unknown</td>\n",
              "      <td>no</td>\n",
              "    </tr>\n",
              "    <tr>\n",
              "      <th>4517</th>\n",
              "      <td>57</td>\n",
              "      <td>self-employed</td>\n",
              "      <td>married</td>\n",
              "      <td>tertiary</td>\n",
              "      <td>yes</td>\n",
              "      <td>-3313</td>\n",
              "      <td>yes</td>\n",
              "      <td>yes</td>\n",
              "      <td>unknown</td>\n",
              "      <td>9</td>\n",
              "      <td>may</td>\n",
              "      <td>153</td>\n",
              "      <td>1</td>\n",
              "      <td>-1</td>\n",
              "      <td>0</td>\n",
              "      <td>unknown</td>\n",
              "      <td>no</td>\n",
              "    </tr>\n",
              "    <tr>\n",
              "      <th>4518</th>\n",
              "      <td>57</td>\n",
              "      <td>technician</td>\n",
              "      <td>married</td>\n",
              "      <td>secondary</td>\n",
              "      <td>no</td>\n",
              "      <td>295</td>\n",
              "      <td>no</td>\n",
              "      <td>no</td>\n",
              "      <td>cellular</td>\n",
              "      <td>19</td>\n",
              "      <td>aug</td>\n",
              "      <td>151</td>\n",
              "      <td>11</td>\n",
              "      <td>-1</td>\n",
              "      <td>0</td>\n",
              "      <td>unknown</td>\n",
              "      <td>no</td>\n",
              "    </tr>\n",
              "    <tr>\n",
              "      <th>4519</th>\n",
              "      <td>28</td>\n",
              "      <td>blue-collar</td>\n",
              "      <td>married</td>\n",
              "      <td>secondary</td>\n",
              "      <td>no</td>\n",
              "      <td>1137</td>\n",
              "      <td>no</td>\n",
              "      <td>no</td>\n",
              "      <td>cellular</td>\n",
              "      <td>6</td>\n",
              "      <td>feb</td>\n",
              "      <td>129</td>\n",
              "      <td>4</td>\n",
              "      <td>211</td>\n",
              "      <td>3</td>\n",
              "      <td>other</td>\n",
              "      <td>no</td>\n",
              "    </tr>\n",
              "    <tr>\n",
              "      <th>4520</th>\n",
              "      <td>44</td>\n",
              "      <td>entrepreneur</td>\n",
              "      <td>single</td>\n",
              "      <td>tertiary</td>\n",
              "      <td>no</td>\n",
              "      <td>1136</td>\n",
              "      <td>yes</td>\n",
              "      <td>yes</td>\n",
              "      <td>cellular</td>\n",
              "      <td>3</td>\n",
              "      <td>apr</td>\n",
              "      <td>345</td>\n",
              "      <td>2</td>\n",
              "      <td>249</td>\n",
              "      <td>7</td>\n",
              "      <td>other</td>\n",
              "      <td>no</td>\n",
              "    </tr>\n",
              "  </tbody>\n",
              "</table>\n",
              "<p>4521 rows × 17 columns</p>\n",
              "</div>\n",
              "      <button class=\"colab-df-convert\" onclick=\"convertToInteractive('df-a6a60663-b572-498e-ae98-9dcc3e115efa')\"\n",
              "              title=\"Convert this dataframe to an interactive table.\"\n",
              "              style=\"display:none;\">\n",
              "        \n",
              "  <svg xmlns=\"http://www.w3.org/2000/svg\" height=\"24px\"viewBox=\"0 0 24 24\"\n",
              "       width=\"24px\">\n",
              "    <path d=\"M0 0h24v24H0V0z\" fill=\"none\"/>\n",
              "    <path d=\"M18.56 5.44l.94 2.06.94-2.06 2.06-.94-2.06-.94-.94-2.06-.94 2.06-2.06.94zm-11 1L8.5 8.5l.94-2.06 2.06-.94-2.06-.94L8.5 2.5l-.94 2.06-2.06.94zm10 10l.94 2.06.94-2.06 2.06-.94-2.06-.94-.94-2.06-.94 2.06-2.06.94z\"/><path d=\"M17.41 7.96l-1.37-1.37c-.4-.4-.92-.59-1.43-.59-.52 0-1.04.2-1.43.59L10.3 9.45l-7.72 7.72c-.78.78-.78 2.05 0 2.83L4 21.41c.39.39.9.59 1.41.59.51 0 1.02-.2 1.41-.59l7.78-7.78 2.81-2.81c.8-.78.8-2.07 0-2.86zM5.41 20L4 18.59l7.72-7.72 1.47 1.35L5.41 20z\"/>\n",
              "  </svg>\n",
              "      </button>\n",
              "      \n",
              "  <style>\n",
              "    .colab-df-container {\n",
              "      display:flex;\n",
              "      flex-wrap:wrap;\n",
              "      gap: 12px;\n",
              "    }\n",
              "\n",
              "    .colab-df-convert {\n",
              "      background-color: #E8F0FE;\n",
              "      border: none;\n",
              "      border-radius: 50%;\n",
              "      cursor: pointer;\n",
              "      display: none;\n",
              "      fill: #1967D2;\n",
              "      height: 32px;\n",
              "      padding: 0 0 0 0;\n",
              "      width: 32px;\n",
              "    }\n",
              "\n",
              "    .colab-df-convert:hover {\n",
              "      background-color: #E2EBFA;\n",
              "      box-shadow: 0px 1px 2px rgba(60, 64, 67, 0.3), 0px 1px 3px 1px rgba(60, 64, 67, 0.15);\n",
              "      fill: #174EA6;\n",
              "    }\n",
              "\n",
              "    [theme=dark] .colab-df-convert {\n",
              "      background-color: #3B4455;\n",
              "      fill: #D2E3FC;\n",
              "    }\n",
              "\n",
              "    [theme=dark] .colab-df-convert:hover {\n",
              "      background-color: #434B5C;\n",
              "      box-shadow: 0px 1px 3px 1px rgba(0, 0, 0, 0.15);\n",
              "      filter: drop-shadow(0px 1px 2px rgba(0, 0, 0, 0.3));\n",
              "      fill: #FFFFFF;\n",
              "    }\n",
              "  </style>\n",
              "\n",
              "      <script>\n",
              "        const buttonEl =\n",
              "          document.querySelector('#df-a6a60663-b572-498e-ae98-9dcc3e115efa button.colab-df-convert');\n",
              "        buttonEl.style.display =\n",
              "          google.colab.kernel.accessAllowed ? 'block' : 'none';\n",
              "\n",
              "        async function convertToInteractive(key) {\n",
              "          const element = document.querySelector('#df-a6a60663-b572-498e-ae98-9dcc3e115efa');\n",
              "          const dataTable =\n",
              "            await google.colab.kernel.invokeFunction('convertToInteractive',\n",
              "                                                     [key], {});\n",
              "          if (!dataTable) return;\n",
              "\n",
              "          const docLinkHtml = 'Like what you see? Visit the ' +\n",
              "            '<a target=\"_blank\" href=https://colab.research.google.com/notebooks/data_table.ipynb>data table notebook</a>'\n",
              "            + ' to learn more about interactive tables.';\n",
              "          element.innerHTML = '';\n",
              "          dataTable['output_type'] = 'display_data';\n",
              "          await google.colab.output.renderOutput(dataTable, element);\n",
              "          const docLink = document.createElement('div');\n",
              "          docLink.innerHTML = docLinkHtml;\n",
              "          element.appendChild(docLink);\n",
              "        }\n",
              "      </script>\n",
              "    </div>\n",
              "  </div>\n",
              "  "
            ]
          },
          "metadata": {},
          "execution_count": 6
        }
      ],
      "source": [
        "bank_data"
      ],
      "id": "91026178"
    },
    {
      "cell_type": "code",
      "execution_count": 7,
      "metadata": {
        "colab": {
          "base_uri": "https://localhost:8080/"
        },
        "id": "a237305e",
        "outputId": "03212da9-47ce-4182-f1a4-6c07bedc135c"
      },
      "outputs": [
        {
          "output_type": "stream",
          "name": "stdout",
          "text": [
            "Shape of the dataset: (4521, 17)\n"
          ]
        }
      ],
      "source": [
        "# Exploring the Data\n",
        "# Checking the shape of the data\n",
        "print(\"Shape of the dataset:\", bank_data.shape)"
      ],
      "id": "a237305e"
    },
    {
      "cell_type": "code",
      "execution_count": 8,
      "metadata": {
        "colab": {
          "base_uri": "https://localhost:8080/"
        },
        "id": "40d05573",
        "outputId": "8bda901f-2e4e-4cc4-e520-f42f78a5fc93"
      },
      "outputs": [
        {
          "output_type": "stream",
          "name": "stdout",
          "text": [
            "Data types:\n",
            "age           int64\n",
            "job          object\n",
            "marital      object\n",
            "education    object\n",
            "default      object\n",
            "balance       int64\n",
            "housing      object\n",
            "loan         object\n",
            "contact      object\n",
            "day           int64\n",
            "month        object\n",
            "duration      int64\n",
            "campaign      int64\n",
            "pdays         int64\n",
            "previous      int64\n",
            "poutcome     object\n",
            "y            object\n",
            "dtype: object\n"
          ]
        }
      ],
      "source": [
        "# Checking the data types\n",
        "print(\"Data types:\")\n",
        "print(bank_data.dtypes)"
      ],
      "id": "40d05573"
    },
    {
      "cell_type": "code",
      "execution_count": 9,
      "metadata": {
        "colab": {
          "base_uri": "https://localhost:8080/"
        },
        "id": "a4d606d5",
        "outputId": "35e0e77a-ea88-4816-e0f3-788e82fd3903"
      },
      "outputs": [
        {
          "output_type": "stream",
          "name": "stdout",
          "text": [
            "Head of the dataset:\n",
            "   age          job  marital  education default  balance housing loan  \\\n",
            "0   30   unemployed  married    primary      no     1787      no   no   \n",
            "1   33     services  married  secondary      no     4789     yes  yes   \n",
            "2   35   management   single   tertiary      no     1350     yes   no   \n",
            "3   30   management  married   tertiary      no     1476     yes  yes   \n",
            "4   59  blue-collar  married  secondary      no        0     yes   no   \n",
            "\n",
            "    contact  day month  duration  campaign  pdays  previous poutcome   y  \n",
            "0  cellular   19   oct        79         1     -1         0  unknown  no  \n",
            "1  cellular   11   may       220         1    339         4  failure  no  \n",
            "2  cellular   16   apr       185         1    330         1  failure  no  \n",
            "3   unknown    3   jun       199         4     -1         0  unknown  no  \n",
            "4   unknown    5   may       226         1     -1         0  unknown  no  \n"
          ]
        }
      ],
      "source": [
        "# Checking the head of the dataset\n",
        "print(\"Head of the dataset:\")\n",
        "print(bank_data.head())"
      ],
      "id": "a4d606d5"
    },
    {
      "cell_type": "code",
      "execution_count": 10,
      "metadata": {
        "colab": {
          "base_uri": "https://localhost:8080/"
        },
        "id": "fd5e8ecd",
        "outputId": "9ed79bf7-e223-4d6a-ca0e-8f836c9a786a"
      },
      "outputs": [
        {
          "output_type": "stream",
          "name": "stdout",
          "text": [
            "Summary Statistics:\n",
            "               age       balance          day     duration     campaign  \\\n",
            "count  4521.000000   4521.000000  4521.000000  4521.000000  4521.000000   \n",
            "mean     41.170095   1422.657819    15.915284   263.961292     2.793630   \n",
            "std      10.576211   3009.638142     8.247667   259.856633     3.109807   \n",
            "min      19.000000  -3313.000000     1.000000     4.000000     1.000000   \n",
            "25%      33.000000     69.000000     9.000000   104.000000     1.000000   \n",
            "50%      39.000000    444.000000    16.000000   185.000000     2.000000   \n",
            "75%      49.000000   1480.000000    21.000000   329.000000     3.000000   \n",
            "max      87.000000  71188.000000    31.000000  3025.000000    50.000000   \n",
            "\n",
            "             pdays     previous  \n",
            "count  4521.000000  4521.000000  \n",
            "mean     39.766645     0.542579  \n",
            "std     100.121124     1.693562  \n",
            "min      -1.000000     0.000000  \n",
            "25%      -1.000000     0.000000  \n",
            "50%      -1.000000     0.000000  \n",
            "75%      -1.000000     0.000000  \n",
            "max     871.000000    25.000000  \n"
          ]
        }
      ],
      "source": [
        "# Checking the summary statistics of the dataset\n",
        "print(\"Summary Statistics:\")\n",
        "print(bank_data.describe())"
      ],
      "id": "fd5e8ecd"
    },
    {
      "cell_type": "code",
      "execution_count": 11,
      "metadata": {
        "colab": {
          "base_uri": "https://localhost:8080/",
          "height": 449
        },
        "id": "97f81829",
        "outputId": "cf87190b-e543-4cd6-c95b-cc8eb9913350"
      },
      "outputs": [
        {
          "output_type": "display_data",
          "data": {
            "text/plain": [
              "<Figure size 640x480 with 1 Axes>"
            ],
            "image/png": "[encoded data removed]"
          },
          "metadata": {}
        }
      ],
      "source": [
        "# Data Visualization\n",
        "# Distribution of the output label: y\n",
        "sns.countplot(x=\"y\", data=bank_data)\n",
        "plt.show()"
      ],
      "id": "97f81829"
    },
    {
      "cell_type": "code",
      "execution_count": 12,
      "metadata": {
        "colab": {
          "base_uri": "https://localhost:8080/",
          "height": 449
        },
        "id": "10ec948d",
        "outputId": "6efca51a-6a5c-47f5-ca67-cd2c2b62e398"
      },
      "outputs": [
        {
          "output_type": "display_data",
          "data": {
            "text/plain": [
              "<Figure size 640x480 with 1 Axes>"
            ],
            "image/png": "[encoded data removed]"
          },
          "metadata": {}
        }
      ],
      "source": [
        "# Distribution of the input features\n",
        "# Job\n",
        "sns.countplot(x=\"job\", data=bank_data)\n",
        "plt.show()"
      ],
      "id": "10ec948d"
    },
    {
      "cell_type": "code",
      "execution_count": 13,
      "metadata": {
        "colab": {
          "base_uri": "https://localhost:8080/",
          "height": 449
        },
        "id": "70822874",
        "outputId": "21294405-77a5-4c19-fcb6-6bcfc15ce004"
      },
      "outputs": [
        {
          "output_type": "display_data",
          "data": {
            "text/plain": [
              "<Figure size 640x480 with 1 Axes>"
            ],
            "image/png": "[encoded data removed]"
          },
          "metadata": {}
        }
      ],
      "source": [
        "# Marital\n",
        "sns.countplot(x=\"marital\", data=bank_data)\n",
        "plt.show()"
      ],
      "id": "70822874"
    },
    {
      "cell_type": "code",
      "execution_count": 14,
      "metadata": {
        "colab": {
          "base_uri": "https://localhost:8080/",
          "height": 646
        },
        "id": "ffb178d2",
        "outputId": "6a8e83ef-d2ae-44c7-dd62-294b0771bcdb"
      },
      "outputs": [
        {
          "output_type": "stream",
          "name": "stderr",
          "text": [
            "<ipython-input-14-1a0cfdcd38e4>:2: UserWarning: \n",
            "\n",
            "`distplot` is a deprecated function and will be removed in seaborn v0.14.0.\n",
            "\n",
            "Please adapt your code to use either `displot` (a figure-level function with\n",
            "similar flexibility) or `histplot` (an axes-level function for histograms).\n",
            "\n",
            "For a guide to updating your code to use the new functions, please see\n",
            "https://gist.github.com/mwaskom/de44147ed2974457ad6372750bbe5751\n",
            "\n",
            "  sns.distplot(bank_data[\"age\"], kde=False)\n"
          ]
        },
        {
          "output_type": "display_data",
          "data": {
            "text/plain": [
              "<Figure size 640x480 with 1 Axes>"
            ],
            "image/png": "[encoded data removed]"
          },
          "metadata": {}
        }
      ],
      "source": [
        "# Age\n",
        "sns.distplot(bank_data[\"age\"], kde=False)\n",
        "plt.show()"
      ],
      "id": "ffb178d2"
    },
    {
      "cell_type": "code",
      "execution_count": 15,
      "metadata": {
        "colab": {
          "base_uri": "https://localhost:8080/",
          "height": 449
        },
        "id": "6c2e5551",
        "outputId": "1a168d58-e803-40c3-c26e-e7e03ecba0e9"
      },
      "outputs": [
        {
          "output_type": "display_data",
          "data": {
            "text/plain": [
              "<Figure size 640x480 with 1 Axes>"
            ],
            "image/png": "[encoded data removed]"
          },
          "metadata": {}
        }
      ],
      "source": [
        "# Education\n",
        "sns.countplot(x=\"education\", data=bank_data)\n",
        "plt.show()"
      ],
      "id": "6c2e5551"
    },
    {
      "cell_type": "code",
      "execution_count": 16,
      "metadata": {
        "colab": {
          "base_uri": "https://localhost:8080/"
        },
        "id": "33b9421d",
        "outputId": "5dec3b1c-51db-4321-f2a1-6cb49a73b9b4"
      },
      "outputs": [
        {
          "output_type": "stream",
          "name": "stdout",
          "text": [
            "Count of output labels:\n",
            "no     4000\n",
            "yes     521\n",
            "Name: y, dtype: int64\n"
          ]
        }
      ],
      "source": [
        "# Data Preprocessing\n",
        "# Check the proportion of output labels\n",
        "# Count of output labels\n",
        "print(\"Count of output labels:\")\n",
        "print(bank_data['y'].value_counts())"
      ],
      "id": "33b9421d"
    },
    {
      "cell_type": "code",
      "execution_count": 17,
      "metadata": {
        "colab": {
          "base_uri": "https://localhost:8080/"
        },
        "id": "fa779e07",
        "outputId": "8a9a2943-73e9-4d96-f73c-ec925e0ae6af"
      },
      "outputs": [
        {
          "output_type": "stream",
          "name": "stdout",
          "text": [
            "Proportion of output labels:\n",
            "no     0.88476\n",
            "yes    0.11524\n",
            "Name: y, dtype: float64\n"
          ]
        }
      ],
      "source": [
        "# Proportion of output labels\n",
        "print(\"Proportion of output labels:\")\n",
        "print(bank_data['y'].value_counts()/len(bank_data['y']))"
      ],
      "id": "fa779e07"
    },
    {
      "cell_type": "code",
      "execution_count": 18,
      "metadata": {
        "id": "e8fc72cd"
      },
      "outputs": [],
      "source": [
        "# Normalizing the data\n",
        "# Normalizing the age column\n",
        "bank_data['age'] = (bank_data['age'] - bank_data['age'].mean()) / bank_data['age'].std()\n",
        "# Normalizing the balance column\n",
        "bank_data['balance'] = (bank_data['balance'] - bank_data['balance'].mean()) / bank_data['balance'].std()\n",
        "\n",
        "# Normalizing the duration column\n",
        "bank_data['duration'] = (bank_data['duration'] - bank_data['duration'].mean()) / bank_data['duration'].std()\n",
        "\n",
        "# Normalizing the campaign column\n",
        "bank_data['campaign'] = (bank_data['campaign'] - bank_data['campaign'].mean()) / bank_data['campaign'].std()\n",
        "\n",
        "# Normalizing the pdays column\n",
        "bank_data['pdays'] = (bank_data['pdays'] - bank_data['pdays'].mean()) / bank_data['pdays'].std()\n",
        "\n",
        "# Normalizing the previous column\n",
        "bank_data['previous'] = (bank_data['previous'] - bank_data['previous'].mean()) / bank_data['previous'].std()"
      ],
      "id": "e8fc72cd"
    },
    {
      "cell_type": "markdown",
      "metadata": {
        "id": "01cbae45"
      },
      "source": [
        "Task 2"
      ],
      "id": "01cbae45"
    },
    {
      "cell_type": "code",
      "execution_count": 19,
      "metadata": {
        "id": "d5eb5806"
      },
      "outputs": [],
      "source": [
        "# Building the Model\n",
        "# Importing Libraries\n",
        "import tensorflow as tf\n",
        "from tensorflow.keras.models import Sequential\n",
        "from tensorflow.keras.layers import Dense"
      ],
      "id": "d5eb5806"
    },
    {
      "cell_type": "code",
      "execution_count": 20,
      "metadata": {
        "id": "7693c775"
      },
      "outputs": [],
      "source": [
        "# Setting the random seed\n",
        "np.random.seed(42)\n",
        "tf.random.set_seed(42)"
      ],
      "id": "7693c775"
    },
    {
      "cell_type": "code",
      "execution_count": 21,
      "metadata": {
        "id": "JMnES8DPP_me"
      },
      "outputs": [],
      "source": [
        "# Building the model\n",
        "model = Sequential([\n",
        "    Dense(4, activation=\"relu\", input_shape=(51,)),\n",
        "    # Dense(4, activation=\"relu\", input_shape=(14,)),\n",
        "    Dense(4, activation=\"relu\"),\n",
        "    Dense(4, activation=\"relu\"),\n",
        "    Dense(4, activation=\"relu\"),\n",
        "    Dense(1, activation=\"sigmoid\")\n",
        "])"
      ],
      "id": "JMnES8DPP_me"
    },
    {
      "cell_type": "code",
      "execution_count": 22,
      "metadata": {
        "id": "Mtzc0XWdQFBm"
      },
      "outputs": [],
      "source": [
        "# Compiling the model\n",
        "model.compile(loss=\"binary_crossentropy\",\n",
        "              optimizer=\"adam\",\n",
        "              metrics=[\"accuracy\"])\n"
      ],
      "id": "Mtzc0XWdQFBm"
    },
    {
      "cell_type": "code",
      "source": [
        "model.summary()"
      ],
      "metadata": {
        "id": "JmTK1WURx0pN",
        "outputId": "203afd77-4ff2-4685-dd02-71da99fa4080",
        "colab": {
          "base_uri": "https://localhost:8080/"
        }
      },
      "id": "JmTK1WURx0pN",
      "execution_count": 23,
      "outputs": [
        {
          "output_type": "stream",
          "name": "stdout",
          "text": [
            "Model: \"sequential\"\n",
            "_________________________________________________________________\n",
            " Layer (type)                Output Shape              Param #   \n",
            "=================================================================\n",
            " dense (Dense)               (None, 4)                 208       \n",
            "                                                                 \n",
            " dense_1 (Dense)             (None, 4)                 20        \n",
            "                                                                 \n",
            " dense_2 (Dense)             (None, 4)                 20        \n",
            "                                                                 \n",
            " dense_3 (Dense)             (None, 4)                 20        \n",
            "                                                                 \n",
            " dense_4 (Dense)             (None, 1)                 5         \n",
            "                                                                 \n",
            "=================================================================\n",
            "Total params: 273\n",
            "Trainable params: 273\n",
            "Non-trainable params: 0\n",
            "_________________________________________________________________\n"
          ]
        }
      ]
    },
    {
      "cell_type": "code",
      "source": [
        "\n",
        "# Training the model\n",
        "\n",
        "# Segregating the features and labels\n",
        "X = bank_data.drop(\"y\", axis=1)\n",
        "\n",
        "# Converting the non-numeric columns to numeric values\n",
        "X = pd.get_dummies(X, columns=['job', 'marital', 'education', 'default', 'housing', 'loan', 'contact', 'month', 'poutcome'])\n",
        "X = X.values.astype(float)\n",
        "\n",
        "# Reshaping input data\n",
        "X = X.reshape(X.shape[0], X.shape[1], 1)\n",
        "\n",
        "from sklearn.preprocessing import LabelEncoder\n",
        "\n",
        "\n",
        "# Reshaping output data\n",
        "y = bank_data[\"y\"].values.reshape(-1, 1)\n",
        "\n",
        "le = LabelEncoder()\n",
        "y = le.fit_transform(y)\n",
        "y = y.astype('float32')\n",
        "\n",
        "\n",
        "# Compiling the model\n",
        "model.compile(optimizer='adam', loss='binary_crossentropy', metrics=['accuracy'])\n",
        "\n",
        "model.fit(X, y, epochs=400, batch_size=32)"
      ],
      "metadata": {
        "id": "NO6HGuoctdCg",
        "outputId": "e53b3722-0126-4ae0-e2bd-ecaaa18d2379",
        "colab": {
          "base_uri": "https://localhost:8080/"
        }
      },
      "id": "NO6HGuoctdCg",
      "execution_count": 24,
      "outputs": [
        {
          "output_type": "stream",
          "name": "stderr",
          "text": [
            "/usr/local/lib/python3.9/dist-packages/sklearn/preprocessing/_label.py:116: DataConversionWarning: A column-vector y was passed when a 1d array was expected. Please change the shape of y to (n_samples, ), for example using ravel().\n",
            "  y = column_or_1d(y, warn=True)\n"
          ]
        },
        {
          "output_type": "stream",
          "name": "stdout",
          "text": [
            "Epoch 1/400\n",
            "142/142 [==============================] - 2s 2ms/step - loss: 0.6559 - accuracy: 0.7067\n",
            "Epoch 2/400\n",
            "142/142 [==============================] - 0s 2ms/step - loss: 0.4156 - accuracy: 0.8848\n",
            "Epoch 3/400\n",
            "142/142 [==============================] - 0s 2ms/step - loss: 0.3312 - accuracy: 0.8848\n",
            "Epoch 4/400\n",
            "142/142 [==============================] - 0s 2ms/step - loss: 0.3010 - accuracy: 0.8848\n",
            "Epoch 5/400\n",
            "142/142 [==============================] - 0s 2ms/step - loss: 0.2723 - accuracy: 0.8848\n",
            "Epoch 6/400\n",
            "142/142 [==============================] - 0s 2ms/step - loss: 0.2515 - accuracy: 0.8848\n",
            "Epoch 7/400\n",
            "142/142 [==============================] - 0s 2ms/step - loss: 0.2409 - accuracy: 0.8848\n",
            "Epoch 8/400\n",
            "142/142 [==============================] - 0s 2ms/step - loss: 0.2359 - accuracy: 0.8845\n",
            "Epoch 9/400\n",
            "142/142 [==============================] - 0s 2ms/step - loss: 0.2337 - accuracy: 0.8901\n",
            "Epoch 10/400\n",
            "142/142 [==============================] - 0s 2ms/step - loss: 0.2306 - accuracy: 0.8943\n",
            "Epoch 11/400\n",
            "142/142 [==============================] - 0s 2ms/step - loss: 0.2283 - accuracy: 0.8980\n",
            "Epoch 12/400\n",
            "142/142 [==============================] - 0s 2ms/step - loss: 0.2287 - accuracy: 0.8958\n",
            "Epoch 13/400\n",
            "142/142 [==============================] - 0s 2ms/step - loss: 0.2279 - accuracy: 0.8960\n",
            "Epoch 14/400\n",
            "142/142 [==============================] - 0s 2ms/step - loss: 0.2275 - accuracy: 0.8963\n",
            "Epoch 15/400\n",
            "142/142 [==============================] - 0s 2ms/step - loss: 0.2261 - accuracy: 0.8978\n",
            "Epoch 16/400\n",
            "142/142 [==============================] - 0s 2ms/step - loss: 0.2263 - accuracy: 0.8980\n",
            "Epoch 17/400\n",
            "142/142 [==============================] - 0s 3ms/step - loss: 0.2258 - accuracy: 0.8989\n",
            "Epoch 18/400\n",
            "142/142 [==============================] - 0s 3ms/step - loss: 0.2244 - accuracy: 0.8991\n",
            "Epoch 19/400\n",
            "142/142 [==============================] - 0s 3ms/step - loss: 0.2243 - accuracy: 0.8991\n",
            "Epoch 20/400\n",
            "142/142 [==============================] - 1s 4ms/step - loss: 0.2240 - accuracy: 0.9000\n",
            "Epoch 21/400\n",
            "142/142 [==============================] - 1s 4ms/step - loss: 0.2237 - accuracy: 0.9018\n",
            "Epoch 22/400\n",
            "142/142 [==============================] - 0s 3ms/step - loss: 0.2233 - accuracy: 0.8998\n",
            "Epoch 23/400\n",
            "142/142 [==============================] - 0s 3ms/step - loss: 0.2217 - accuracy: 0.9002\n",
            "Epoch 24/400\n",
            "142/142 [==============================] - 1s 4ms/step - loss: 0.2241 - accuracy: 0.9031\n",
            "Epoch 25/400\n",
            "142/142 [==============================] - 0s 3ms/step - loss: 0.2219 - accuracy: 0.9018\n",
            "Epoch 26/400\n",
            "142/142 [==============================] - 0s 3ms/step - loss: 0.2227 - accuracy: 0.9002\n",
            "Epoch 27/400\n",
            "142/142 [==============================] - 0s 2ms/step - loss: 0.2209 - accuracy: 0.9011\n",
            "Epoch 28/400\n",
            "142/142 [==============================] - 0s 2ms/step - loss: 0.2220 - accuracy: 0.9038\n",
            "Epoch 29/400\n",
            "142/142 [==============================] - 0s 2ms/step - loss: 0.2226 - accuracy: 0.9036\n",
            "Epoch 30/400\n",
            "142/142 [==============================] - 0s 2ms/step - loss: 0.2209 - accuracy: 0.9027\n",
            "Epoch 31/400\n",
            "142/142 [==============================] - 0s 2ms/step - loss: 0.2205 - accuracy: 0.9031\n",
            "Epoch 32/400\n",
            "142/142 [==============================] - 0s 2ms/step - loss: 0.2198 - accuracy: 0.9056\n",
            "Epoch 33/400\n",
            "142/142 [==============================] - 0s 2ms/step - loss: 0.2204 - accuracy: 0.9033\n",
            "Epoch 34/400\n",
            "142/142 [==============================] - 0s 2ms/step - loss: 0.2205 - accuracy: 0.9025\n",
            "Epoch 35/400\n",
            "142/142 [==============================] - 0s 2ms/step - loss: 0.2194 - accuracy: 0.9049\n",
            "Epoch 36/400\n",
            "142/142 [==============================] - 0s 2ms/step - loss: 0.2186 - accuracy: 0.9053\n",
            "Epoch 37/400\n",
            "142/142 [==============================] - 0s 2ms/step - loss: 0.2197 - accuracy: 0.9073\n",
            "Epoch 38/400\n",
            "142/142 [==============================] - 0s 2ms/step - loss: 0.2197 - accuracy: 0.9058\n",
            "Epoch 39/400\n",
            "142/142 [==============================] - 0s 2ms/step - loss: 0.2197 - accuracy: 0.9062\n",
            "Epoch 40/400\n",
            "142/142 [==============================] - 0s 2ms/step - loss: 0.2192 - accuracy: 0.9062\n",
            "Epoch 41/400\n",
            "142/142 [==============================] - 0s 2ms/step - loss: 0.2184 - accuracy: 0.9075\n",
            "Epoch 42/400\n",
            "142/142 [==============================] - 0s 2ms/step - loss: 0.2189 - accuracy: 0.9053\n",
            "Epoch 43/400\n",
            "142/142 [==============================] - 0s 2ms/step - loss: 0.2196 - accuracy: 0.9060\n",
            "Epoch 44/400\n",
            "142/142 [==============================] - 0s 2ms/step - loss: 0.2191 - accuracy: 0.9069\n",
            "Epoch 45/400\n",
            "142/142 [==============================] - 0s 2ms/step - loss: 0.2181 - accuracy: 0.9060\n",
            "Epoch 46/400\n",
            "142/142 [==============================] - 0s 2ms/step - loss: 0.2185 - accuracy: 0.9080\n",
            "Epoch 47/400\n",
            "142/142 [==============================] - 0s 2ms/step - loss: 0.2182 - accuracy: 0.9051\n",
            "Epoch 48/400\n",
            "142/142 [==============================] - 0s 2ms/step - loss: 0.2187 - accuracy: 0.9060\n",
            "Epoch 49/400\n",
            "142/142 [==============================] - 0s 2ms/step - loss: 0.2170 - accuracy: 0.9071\n",
            "Epoch 50/400\n",
            "142/142 [==============================] - 0s 2ms/step - loss: 0.2188 - accuracy: 0.9049\n",
            "Epoch 51/400\n",
            "142/142 [==============================] - 0s 2ms/step - loss: 0.2162 - accuracy: 0.9062\n",
            "Epoch 52/400\n",
            "142/142 [==============================] - 0s 2ms/step - loss: 0.2169 - accuracy: 0.9064\n",
            "Epoch 53/400\n",
            "142/142 [==============================] - 0s 2ms/step - loss: 0.2177 - accuracy: 0.9078\n",
            "Epoch 54/400\n",
            "142/142 [==============================] - 0s 2ms/step - loss: 0.2185 - accuracy: 0.9078\n",
            "Epoch 55/400\n",
            "142/142 [==============================] - 0s 2ms/step - loss: 0.2183 - accuracy: 0.9064\n",
            "Epoch 56/400\n",
            "142/142 [==============================] - 0s 2ms/step - loss: 0.2175 - accuracy: 0.9082\n",
            "Epoch 57/400\n",
            "142/142 [==============================] - 0s 2ms/step - loss: 0.2159 - accuracy: 0.9049\n",
            "Epoch 58/400\n",
            "142/142 [==============================] - 0s 3ms/step - loss: 0.2166 - accuracy: 0.9080\n",
            "Epoch 59/400\n",
            "142/142 [==============================] - 0s 3ms/step - loss: 0.2166 - accuracy: 0.9064\n",
            "Epoch 60/400\n",
            "142/142 [==============================] - 1s 4ms/step - loss: 0.2167 - accuracy: 0.9058\n",
            "Epoch 61/400\n",
            "142/142 [==============================] - 0s 3ms/step - loss: 0.2161 - accuracy: 0.9082\n",
            "Epoch 62/400\n",
            "142/142 [==============================] - 0s 3ms/step - loss: 0.2160 - accuracy: 0.9080\n",
            "Epoch 63/400\n",
            "142/142 [==============================] - 1s 9ms/step - loss: 0.2164 - accuracy: 0.9093\n",
            "Epoch 64/400\n",
            "142/142 [==============================] - 1s 7ms/step - loss: 0.2166 - accuracy: 0.9073\n",
            "Epoch 65/400\n",
            "142/142 [==============================] - 1s 8ms/step - loss: 0.2172 - accuracy: 0.9078\n",
            "Epoch 66/400\n",
            "142/142 [==============================] - 0s 2ms/step - loss: 0.2156 - accuracy: 0.9075\n",
            "Epoch 67/400\n",
            "142/142 [==============================] - 1s 8ms/step - loss: 0.2150 - accuracy: 0.9078\n",
            "Epoch 68/400\n",
            "142/142 [==============================] - 1s 4ms/step - loss: 0.2163 - accuracy: 0.9084\n",
            "Epoch 69/400\n",
            "142/142 [==============================] - 1s 5ms/step - loss: 0.2149 - accuracy: 0.9091\n",
            "Epoch 70/400\n",
            "142/142 [==============================] - 0s 2ms/step - loss: 0.2168 - accuracy: 0.9080\n",
            "Epoch 71/400\n",
            "142/142 [==============================] - 0s 3ms/step - loss: 0.2150 - accuracy: 0.9073\n",
            "Epoch 72/400\n",
            "142/142 [==============================] - 1s 4ms/step - loss: 0.2152 - accuracy: 0.9084\n",
            "Epoch 73/400\n",
            "142/142 [==============================] - 0s 2ms/step - loss: 0.2150 - accuracy: 0.9084\n",
            "Epoch 74/400\n",
            "142/142 [==============================] - 0s 2ms/step - loss: 0.2152 - accuracy: 0.9080\n",
            "Epoch 75/400\n",
            "142/142 [==============================] - 0s 2ms/step - loss: 0.2155 - accuracy: 0.9089\n",
            "Epoch 76/400\n",
            "142/142 [==============================] - 0s 2ms/step - loss: 0.2147 - accuracy: 0.9075\n",
            "Epoch 77/400\n",
            "142/142 [==============================] - 0s 2ms/step - loss: 0.2140 - accuracy: 0.9100\n",
            "Epoch 78/400\n",
            "142/142 [==============================] - 0s 2ms/step - loss: 0.2152 - accuracy: 0.9093\n",
            "Epoch 79/400\n",
            "142/142 [==============================] - 0s 2ms/step - loss: 0.2138 - accuracy: 0.9082\n",
            "Epoch 80/400\n",
            "142/142 [==============================] - 0s 2ms/step - loss: 0.2148 - accuracy: 0.9084\n",
            "Epoch 81/400\n",
            "142/142 [==============================] - 0s 2ms/step - loss: 0.2141 - accuracy: 0.9086\n",
            "Epoch 82/400\n",
            "142/142 [==============================] - 0s 2ms/step - loss: 0.2139 - accuracy: 0.9117\n",
            "Epoch 83/400\n",
            "142/142 [==============================] - 0s 2ms/step - loss: 0.2135 - accuracy: 0.9093\n",
            "Epoch 84/400\n",
            "142/142 [==============================] - 0s 2ms/step - loss: 0.2116 - accuracy: 0.9102\n",
            "Epoch 85/400\n",
            "142/142 [==============================] - 0s 2ms/step - loss: 0.2124 - accuracy: 0.9109\n",
            "Epoch 86/400\n",
            "142/142 [==============================] - 0s 2ms/step - loss: 0.2123 - accuracy: 0.9098\n",
            "Epoch 87/400\n",
            "142/142 [==============================] - 0s 2ms/step - loss: 0.2133 - accuracy: 0.9102\n",
            "Epoch 88/400\n",
            "142/142 [==============================] - 0s 2ms/step - loss: 0.2123 - accuracy: 0.9126\n",
            "Epoch 89/400\n",
            "142/142 [==============================] - 0s 3ms/step - loss: 0.2125 - accuracy: 0.9111\n",
            "Epoch 90/400\n",
            "142/142 [==============================] - 1s 3ms/step - loss: 0.2134 - accuracy: 0.9100\n",
            "Epoch 91/400\n",
            "142/142 [==============================] - 0s 3ms/step - loss: 0.2118 - accuracy: 0.9113\n",
            "Epoch 92/400\n",
            "142/142 [==============================] - 0s 3ms/step - loss: 0.2113 - accuracy: 0.9115\n",
            "Epoch 93/400\n",
            "142/142 [==============================] - 0s 3ms/step - loss: 0.2139 - accuracy: 0.9113\n",
            "Epoch 94/400\n",
            "142/142 [==============================] - 0s 3ms/step - loss: 0.2113 - accuracy: 0.9109\n",
            "Epoch 95/400\n",
            "142/142 [==============================] - 0s 3ms/step - loss: 0.2114 - accuracy: 0.9122\n",
            "Epoch 96/400\n",
            "142/142 [==============================] - 0s 3ms/step - loss: 0.2110 - accuracy: 0.9126\n",
            "Epoch 97/400\n",
            "142/142 [==============================] - 0s 3ms/step - loss: 0.2120 - accuracy: 0.9104\n",
            "Epoch 98/400\n",
            "142/142 [==============================] - 1s 4ms/step - loss: 0.2129 - accuracy: 0.9098\n",
            "Epoch 99/400\n",
            "142/142 [==============================] - 0s 3ms/step - loss: 0.2111 - accuracy: 0.9120\n",
            "Epoch 100/400\n",
            "142/142 [==============================] - 0s 2ms/step - loss: 0.2106 - accuracy: 0.9098\n",
            "Epoch 101/400\n",
            "142/142 [==============================] - 0s 2ms/step - loss: 0.2102 - accuracy: 0.9129\n",
            "Epoch 102/400\n",
            "142/142 [==============================] - 0s 2ms/step - loss: 0.2119 - accuracy: 0.9111\n",
            "Epoch 103/400\n",
            "142/142 [==============================] - 0s 2ms/step - loss: 0.2109 - accuracy: 0.9106\n",
            "Epoch 104/400\n",
            "142/142 [==============================] - 0s 2ms/step - loss: 0.2099 - accuracy: 0.9109\n",
            "Epoch 105/400\n",
            "142/142 [==============================] - 0s 2ms/step - loss: 0.2097 - accuracy: 0.9115\n",
            "Epoch 106/400\n",
            "142/142 [==============================] - 0s 2ms/step - loss: 0.2102 - accuracy: 0.9117\n",
            "Epoch 107/400\n",
            "142/142 [==============================] - 0s 2ms/step - loss: 0.2095 - accuracy: 0.9117\n",
            "Epoch 108/400\n",
            "142/142 [==============================] - 0s 2ms/step - loss: 0.2097 - accuracy: 0.9122\n",
            "Epoch 109/400\n",
            "142/142 [==============================] - 0s 2ms/step - loss: 0.2099 - accuracy: 0.9109\n",
            "Epoch 110/400\n",
            "142/142 [==============================] - 0s 2ms/step - loss: 0.2100 - accuracy: 0.9124\n",
            "Epoch 111/400\n",
            "142/142 [==============================] - 0s 2ms/step - loss: 0.2092 - accuracy: 0.9122\n",
            "Epoch 112/400\n",
            "142/142 [==============================] - 0s 2ms/step - loss: 0.2092 - accuracy: 0.9120\n",
            "Epoch 113/400\n",
            "142/142 [==============================] - 0s 2ms/step - loss: 0.2099 - accuracy: 0.9131\n",
            "Epoch 114/400\n",
            "142/142 [==============================] - 0s 2ms/step - loss: 0.2094 - accuracy: 0.9106\n",
            "Epoch 115/400\n",
            "142/142 [==============================] - 0s 2ms/step - loss: 0.2080 - accuracy: 0.9122\n",
            "Epoch 116/400\n",
            "142/142 [==============================] - 0s 2ms/step - loss: 0.2094 - accuracy: 0.9122\n",
            "Epoch 117/400\n",
            "142/142 [==============================] - 0s 2ms/step - loss: 0.2087 - accuracy: 0.9115\n",
            "Epoch 118/400\n",
            "142/142 [==============================] - 0s 2ms/step - loss: 0.2097 - accuracy: 0.9109\n",
            "Epoch 119/400\n",
            "142/142 [==============================] - 0s 2ms/step - loss: 0.2082 - accuracy: 0.9131\n",
            "Epoch 120/400\n",
            "142/142 [==============================] - 0s 2ms/step - loss: 0.2085 - accuracy: 0.9124\n",
            "Epoch 121/400\n",
            "142/142 [==============================] - 0s 2ms/step - loss: 0.2083 - accuracy: 0.9131\n",
            "Epoch 122/400\n",
            "142/142 [==============================] - 0s 2ms/step - loss: 0.2083 - accuracy: 0.9135\n",
            "Epoch 123/400\n",
            "142/142 [==============================] - 0s 2ms/step - loss: 0.2102 - accuracy: 0.9126\n",
            "Epoch 124/400\n",
            "142/142 [==============================] - 0s 2ms/step - loss: 0.2098 - accuracy: 0.9129\n",
            "Epoch 125/400\n",
            "142/142 [==============================] - 0s 2ms/step - loss: 0.2087 - accuracy: 0.9124\n",
            "Epoch 126/400\n",
            "142/142 [==============================] - 0s 2ms/step - loss: 0.2078 - accuracy: 0.9126\n",
            "Epoch 127/400\n",
            "142/142 [==============================] - 0s 2ms/step - loss: 0.2079 - accuracy: 0.9131\n",
            "Epoch 128/400\n",
            "142/142 [==============================] - 0s 2ms/step - loss: 0.2087 - accuracy: 0.9124\n",
            "Epoch 129/400\n",
            "142/142 [==============================] - 0s 2ms/step - loss: 0.2074 - accuracy: 0.9137\n",
            "Epoch 130/400\n",
            "142/142 [==============================] - 0s 2ms/step - loss: 0.2069 - accuracy: 0.9142\n",
            "Epoch 131/400\n",
            "142/142 [==============================] - 0s 2ms/step - loss: 0.2078 - accuracy: 0.9109\n",
            "Epoch 132/400\n",
            "142/142 [==============================] - 0s 3ms/step - loss: 0.2076 - accuracy: 0.9111\n",
            "Epoch 133/400\n",
            "142/142 [==============================] - 0s 3ms/step - loss: 0.2068 - accuracy: 0.9124\n",
            "Epoch 134/400\n",
            "142/142 [==============================] - 0s 3ms/step - loss: 0.2082 - accuracy: 0.9086\n",
            "Epoch 135/400\n",
            "142/142 [==============================] - 0s 3ms/step - loss: 0.2066 - accuracy: 0.9120\n",
            "Epoch 136/400\n",
            "142/142 [==============================] - 0s 3ms/step - loss: 0.2066 - accuracy: 0.9159\n",
            "Epoch 137/400\n",
            "142/142 [==============================] - 1s 4ms/step - loss: 0.2060 - accuracy: 0.9115\n",
            "Epoch 138/400\n",
            "142/142 [==============================] - 0s 3ms/step - loss: 0.2072 - accuracy: 0.9133\n",
            "Epoch 139/400\n",
            "142/142 [==============================] - 1s 4ms/step - loss: 0.2069 - accuracy: 0.9106\n",
            "Epoch 140/400\n",
            "142/142 [==============================] - 0s 3ms/step - loss: 0.2062 - accuracy: 0.9155\n",
            "Epoch 141/400\n",
            "142/142 [==============================] - 0s 3ms/step - loss: 0.2069 - accuracy: 0.9142\n",
            "Epoch 142/400\n",
            "142/142 [==============================] - 0s 2ms/step - loss: 0.2068 - accuracy: 0.9140\n",
            "Epoch 143/400\n",
            "142/142 [==============================] - 0s 2ms/step - loss: 0.2060 - accuracy: 0.9131\n",
            "Epoch 144/400\n",
            "142/142 [==============================] - 0s 2ms/step - loss: 0.2055 - accuracy: 0.9129\n",
            "Epoch 145/400\n",
            "142/142 [==============================] - 0s 2ms/step - loss: 0.2047 - accuracy: 0.9153\n",
            "Epoch 146/400\n",
            "142/142 [==============================] - 0s 2ms/step - loss: 0.2047 - accuracy: 0.9124\n",
            "Epoch 147/400\n",
            "142/142 [==============================] - 0s 2ms/step - loss: 0.2057 - accuracy: 0.9135\n",
            "Epoch 148/400\n",
            "142/142 [==============================] - 0s 2ms/step - loss: 0.2040 - accuracy: 0.9131\n",
            "Epoch 149/400\n",
            "142/142 [==============================] - 0s 2ms/step - loss: 0.2058 - accuracy: 0.9126\n",
            "Epoch 150/400\n",
            "142/142 [==============================] - 0s 2ms/step - loss: 0.2035 - accuracy: 0.9131\n",
            "Epoch 151/400\n",
            "142/142 [==============================] - 0s 2ms/step - loss: 0.2063 - accuracy: 0.9124\n",
            "Epoch 152/400\n",
            "142/142 [==============================] - 0s 2ms/step - loss: 0.2052 - accuracy: 0.9153\n",
            "Epoch 153/400\n",
            "142/142 [==============================] - 0s 2ms/step - loss: 0.2038 - accuracy: 0.9124\n",
            "Epoch 154/400\n",
            "142/142 [==============================] - 0s 2ms/step - loss: 0.2051 - accuracy: 0.9144\n",
            "Epoch 155/400\n",
            "142/142 [==============================] - 0s 2ms/step - loss: 0.2040 - accuracy: 0.9135\n",
            "Epoch 156/400\n",
            "142/142 [==============================] - 0s 2ms/step - loss: 0.2038 - accuracy: 0.9124\n",
            "Epoch 157/400\n",
            "142/142 [==============================] - 0s 2ms/step - loss: 0.2037 - accuracy: 0.9151\n",
            "Epoch 158/400\n",
            "142/142 [==============================] - 0s 2ms/step - loss: 0.2052 - accuracy: 0.9117\n",
            "Epoch 159/400\n",
            "142/142 [==============================] - 0s 2ms/step - loss: 0.2037 - accuracy: 0.9144\n",
            "Epoch 160/400\n",
            "142/142 [==============================] - 0s 2ms/step - loss: 0.2033 - accuracy: 0.9157\n",
            "Epoch 161/400\n",
            "142/142 [==============================] - 0s 2ms/step - loss: 0.2036 - accuracy: 0.9151\n",
            "Epoch 162/400\n",
            "142/142 [==============================] - 0s 2ms/step - loss: 0.2047 - accuracy: 0.9140\n",
            "Epoch 163/400\n",
            "142/142 [==============================] - 0s 2ms/step - loss: 0.2026 - accuracy: 0.9155\n",
            "Epoch 164/400\n",
            "142/142 [==============================] - 0s 2ms/step - loss: 0.2040 - accuracy: 0.9144\n",
            "Epoch 165/400\n",
            "142/142 [==============================] - 0s 2ms/step - loss: 0.2028 - accuracy: 0.9164\n",
            "Epoch 166/400\n",
            "142/142 [==============================] - 0s 2ms/step - loss: 0.2028 - accuracy: 0.9140\n",
            "Epoch 167/400\n",
            "142/142 [==============================] - 0s 2ms/step - loss: 0.2026 - accuracy: 0.9159\n",
            "Epoch 168/400\n",
            "142/142 [==============================] - 0s 2ms/step - loss: 0.2032 - accuracy: 0.9140\n",
            "Epoch 169/400\n",
            "142/142 [==============================] - 0s 2ms/step - loss: 0.2054 - accuracy: 0.9166\n",
            "Epoch 170/400\n",
            "142/142 [==============================] - 0s 2ms/step - loss: 0.2031 - accuracy: 0.9144\n",
            "Epoch 171/400\n",
            "142/142 [==============================] - 0s 2ms/step - loss: 0.2030 - accuracy: 0.9164\n",
            "Epoch 172/400\n",
            "142/142 [==============================] - 0s 2ms/step - loss: 0.2023 - accuracy: 0.9148\n",
            "Epoch 173/400\n",
            "142/142 [==============================] - 0s 2ms/step - loss: 0.2024 - accuracy: 0.9171\n",
            "Epoch 174/400\n",
            "142/142 [==============================] - 0s 3ms/step - loss: 0.2036 - accuracy: 0.9153\n",
            "Epoch 175/400\n",
            "142/142 [==============================] - 0s 3ms/step - loss: 0.2017 - accuracy: 0.9153\n",
            "Epoch 176/400\n",
            "142/142 [==============================] - 0s 3ms/step - loss: 0.2021 - accuracy: 0.9162\n",
            "Epoch 177/400\n",
            "142/142 [==============================] - 0s 3ms/step - loss: 0.2017 - accuracy: 0.9151\n",
            "Epoch 178/400\n",
            "142/142 [==============================] - 0s 3ms/step - loss: 0.2012 - accuracy: 0.9168\n",
            "Epoch 179/400\n",
            "142/142 [==============================] - 1s 4ms/step - loss: 0.2026 - accuracy: 0.9171\n",
            "Epoch 180/400\n",
            "142/142 [==============================] - 0s 3ms/step - loss: 0.2027 - accuracy: 0.9142\n",
            "Epoch 181/400\n",
            "142/142 [==============================] - 0s 3ms/step - loss: 0.2016 - accuracy: 0.9166\n",
            "Epoch 182/400\n",
            "142/142 [==============================] - 0s 3ms/step - loss: 0.2014 - accuracy: 0.9177\n",
            "Epoch 183/400\n",
            "142/142 [==============================] - 0s 3ms/step - loss: 0.2012 - accuracy: 0.9157\n",
            "Epoch 184/400\n",
            "142/142 [==============================] - 0s 3ms/step - loss: 0.2016 - accuracy: 0.9146\n",
            "Epoch 185/400\n",
            "142/142 [==============================] - 0s 2ms/step - loss: 0.2019 - accuracy: 0.9148\n",
            "Epoch 186/400\n",
            "142/142 [==============================] - 0s 2ms/step - loss: 0.2005 - accuracy: 0.9153\n",
            "Epoch 187/400\n",
            "142/142 [==============================] - 0s 2ms/step - loss: 0.2001 - accuracy: 0.9166\n",
            "Epoch 188/400\n",
            "142/142 [==============================] - 0s 2ms/step - loss: 0.2010 - accuracy: 0.9151\n",
            "Epoch 189/400\n",
            "142/142 [==============================] - 0s 2ms/step - loss: 0.2005 - accuracy: 0.9153\n",
            "Epoch 190/400\n",
            "142/142 [==============================] - 0s 2ms/step - loss: 0.2005 - accuracy: 0.9159\n",
            "Epoch 191/400\n",
            "142/142 [==============================] - 0s 2ms/step - loss: 0.2010 - accuracy: 0.9135\n",
            "Epoch 192/400\n",
            "142/142 [==============================] - 0s 2ms/step - loss: 0.2000 - accuracy: 0.9155\n",
            "Epoch 193/400\n",
            "142/142 [==============================] - 0s 2ms/step - loss: 0.2001 - accuracy: 0.9157\n",
            "Epoch 194/400\n",
            "142/142 [==============================] - 0s 2ms/step - loss: 0.2000 - accuracy: 0.9148\n",
            "Epoch 195/400\n",
            "142/142 [==============================] - 0s 2ms/step - loss: 0.1988 - accuracy: 0.9171\n",
            "Epoch 196/400\n",
            "142/142 [==============================] - 0s 2ms/step - loss: 0.1994 - accuracy: 0.9148\n",
            "Epoch 197/400\n",
            "142/142 [==============================] - 0s 2ms/step - loss: 0.1997 - accuracy: 0.9159\n",
            "Epoch 198/400\n",
            "142/142 [==============================] - 0s 2ms/step - loss: 0.2004 - accuracy: 0.9157\n",
            "Epoch 199/400\n",
            "142/142 [==============================] - 0s 2ms/step - loss: 0.1995 - accuracy: 0.9171\n",
            "Epoch 200/400\n",
            "142/142 [==============================] - 0s 2ms/step - loss: 0.1993 - accuracy: 0.9159\n",
            "Epoch 201/400\n",
            "142/142 [==============================] - 0s 2ms/step - loss: 0.2003 - accuracy: 0.9188\n",
            "Epoch 202/400\n",
            "142/142 [==============================] - 0s 2ms/step - loss: 0.2000 - accuracy: 0.9164\n",
            "Epoch 203/400\n",
            "142/142 [==============================] - 0s 2ms/step - loss: 0.1998 - accuracy: 0.9179\n",
            "Epoch 204/400\n",
            "142/142 [==============================] - 0s 2ms/step - loss: 0.1993 - accuracy: 0.9153\n",
            "Epoch 205/400\n",
            "142/142 [==============================] - 0s 2ms/step - loss: 0.1995 - accuracy: 0.9166\n",
            "Epoch 206/400\n",
            "142/142 [==============================] - 0s 2ms/step - loss: 0.1990 - accuracy: 0.9157\n",
            "Epoch 207/400\n",
            "142/142 [==============================] - 0s 2ms/step - loss: 0.1982 - accuracy: 0.9142\n",
            "Epoch 208/400\n",
            "142/142 [==============================] - 0s 2ms/step - loss: 0.1983 - accuracy: 0.9168\n",
            "Epoch 209/400\n",
            "142/142 [==============================] - 0s 2ms/step - loss: 0.1978 - accuracy: 0.9166\n",
            "Epoch 210/400\n",
            "142/142 [==============================] - 0s 2ms/step - loss: 0.1989 - accuracy: 0.9175\n",
            "Epoch 211/400\n",
            "142/142 [==============================] - 0s 2ms/step - loss: 0.1989 - accuracy: 0.9155\n",
            "Epoch 212/400\n",
            "142/142 [==============================] - 0s 2ms/step - loss: 0.1987 - accuracy: 0.9162\n",
            "Epoch 213/400\n",
            "142/142 [==============================] - 0s 2ms/step - loss: 0.1982 - accuracy: 0.9164\n",
            "Epoch 214/400\n",
            "142/142 [==============================] - 0s 2ms/step - loss: 0.1986 - accuracy: 0.9182\n",
            "Epoch 215/400\n",
            "142/142 [==============================] - 0s 2ms/step - loss: 0.1985 - accuracy: 0.9140\n",
            "Epoch 216/400\n",
            "142/142 [==============================] - 0s 2ms/step - loss: 0.1971 - accuracy: 0.9159\n",
            "Epoch 217/400\n",
            "142/142 [==============================] - 0s 3ms/step - loss: 0.1968 - accuracy: 0.9153\n",
            "Epoch 218/400\n",
            "142/142 [==============================] - 0s 3ms/step - loss: 0.1978 - accuracy: 0.9166\n",
            "Epoch 219/400\n",
            "142/142 [==============================] - 0s 3ms/step - loss: 0.1989 - accuracy: 0.9153\n",
            "Epoch 220/400\n",
            "142/142 [==============================] - 0s 3ms/step - loss: 0.1985 - accuracy: 0.9166\n",
            "Epoch 221/400\n",
            "142/142 [==============================] - 0s 3ms/step - loss: 0.1969 - accuracy: 0.9157\n",
            "Epoch 222/400\n",
            "142/142 [==============================] - 1s 4ms/step - loss: 0.1972 - accuracy: 0.9168\n",
            "Epoch 223/400\n",
            "142/142 [==============================] - 0s 3ms/step - loss: 0.1982 - accuracy: 0.9182\n",
            "Epoch 224/400\n",
            "142/142 [==============================] - 0s 3ms/step - loss: 0.1980 - accuracy: 0.9159\n",
            "Epoch 225/400\n",
            "142/142 [==============================] - 0s 3ms/step - loss: 0.1975 - accuracy: 0.9173\n",
            "Epoch 226/400\n",
            "142/142 [==============================] - 1s 4ms/step - loss: 0.1968 - accuracy: 0.9184\n",
            "Epoch 227/400\n",
            "142/142 [==============================] - 0s 2ms/step - loss: 0.1962 - accuracy: 0.9164\n",
            "Epoch 228/400\n",
            "142/142 [==============================] - 0s 2ms/step - loss: 0.1968 - accuracy: 0.9162\n",
            "Epoch 229/400\n",
            "142/142 [==============================] - 0s 2ms/step - loss: 0.1969 - accuracy: 0.9182\n",
            "Epoch 230/400\n",
            "142/142 [==============================] - 0s 2ms/step - loss: 0.1974 - accuracy: 0.9177\n",
            "Epoch 231/400\n",
            "142/142 [==============================] - 0s 2ms/step - loss: 0.1972 - accuracy: 0.9162\n",
            "Epoch 232/400\n",
            "142/142 [==============================] - 0s 2ms/step - loss: 0.1967 - accuracy: 0.9177\n",
            "Epoch 233/400\n",
            "142/142 [==============================] - 0s 2ms/step - loss: 0.1969 - accuracy: 0.9162\n",
            "Epoch 234/400\n",
            "142/142 [==============================] - 0s 2ms/step - loss: 0.1964 - accuracy: 0.9184\n",
            "Epoch 235/400\n",
            "142/142 [==============================] - 0s 2ms/step - loss: 0.1960 - accuracy: 0.9168\n",
            "Epoch 236/400\n",
            "142/142 [==============================] - 0s 2ms/step - loss: 0.1964 - accuracy: 0.9179\n",
            "Epoch 237/400\n",
            "142/142 [==============================] - 0s 2ms/step - loss: 0.1960 - accuracy: 0.9190\n",
            "Epoch 238/400\n",
            "142/142 [==============================] - 0s 2ms/step - loss: 0.1959 - accuracy: 0.9199\n",
            "Epoch 239/400\n",
            "142/142 [==============================] - 0s 2ms/step - loss: 0.1977 - accuracy: 0.9171\n",
            "Epoch 240/400\n",
            "142/142 [==============================] - 0s 2ms/step - loss: 0.1960 - accuracy: 0.9173\n",
            "Epoch 241/400\n",
            "142/142 [==============================] - 0s 2ms/step - loss: 0.1965 - accuracy: 0.9190\n",
            "Epoch 242/400\n",
            "142/142 [==============================] - 0s 2ms/step - loss: 0.1958 - accuracy: 0.9193\n",
            "Epoch 243/400\n",
            "142/142 [==============================] - 0s 2ms/step - loss: 0.1956 - accuracy: 0.9202\n",
            "Epoch 244/400\n",
            "142/142 [==============================] - 0s 2ms/step - loss: 0.1956 - accuracy: 0.9184\n",
            "Epoch 245/400\n",
            "142/142 [==============================] - 0s 2ms/step - loss: 0.1952 - accuracy: 0.9168\n",
            "Epoch 246/400\n",
            "142/142 [==============================] - 0s 2ms/step - loss: 0.1954 - accuracy: 0.9177\n",
            "Epoch 247/400\n",
            "142/142 [==============================] - 0s 2ms/step - loss: 0.1967 - accuracy: 0.9164\n",
            "Epoch 248/400\n",
            "142/142 [==============================] - 0s 2ms/step - loss: 0.1956 - accuracy: 0.9173\n",
            "Epoch 249/400\n",
            "142/142 [==============================] - 0s 2ms/step - loss: 0.1951 - accuracy: 0.9177\n",
            "Epoch 250/400\n",
            "142/142 [==============================] - 0s 2ms/step - loss: 0.1950 - accuracy: 0.9182\n",
            "Epoch 251/400\n",
            "142/142 [==============================] - 0s 2ms/step - loss: 0.1949 - accuracy: 0.9177\n",
            "Epoch 252/400\n",
            "142/142 [==============================] - 0s 2ms/step - loss: 0.1952 - accuracy: 0.9190\n",
            "Epoch 253/400\n",
            "142/142 [==============================] - 0s 2ms/step - loss: 0.1961 - accuracy: 0.9168\n",
            "Epoch 254/400\n",
            "142/142 [==============================] - 0s 2ms/step - loss: 0.1960 - accuracy: 0.9177\n",
            "Epoch 255/400\n",
            "142/142 [==============================] - 0s 2ms/step - loss: 0.1953 - accuracy: 0.9193\n",
            "Epoch 256/400\n",
            "142/142 [==============================] - 0s 2ms/step - loss: 0.1948 - accuracy: 0.9188\n",
            "Epoch 257/400\n",
            "142/142 [==============================] - 0s 3ms/step - loss: 0.1948 - accuracy: 0.9182\n",
            "Epoch 258/400\n",
            "142/142 [==============================] - 1s 4ms/step - loss: 0.1949 - accuracy: 0.9171\n",
            "Epoch 259/400\n",
            "142/142 [==============================] - 1s 4ms/step - loss: 0.1947 - accuracy: 0.9177\n",
            "Epoch 260/400\n",
            "142/142 [==============================] - 1s 4ms/step - loss: 0.1944 - accuracy: 0.9175\n",
            "Epoch 261/400\n",
            "142/142 [==============================] - 0s 3ms/step - loss: 0.1954 - accuracy: 0.9190\n",
            "Epoch 262/400\n",
            "142/142 [==============================] - 0s 3ms/step - loss: 0.1951 - accuracy: 0.9179\n",
            "Epoch 263/400\n",
            "142/142 [==============================] - 0s 3ms/step - loss: 0.1952 - accuracy: 0.9159\n",
            "Epoch 264/400\n",
            "142/142 [==============================] - 0s 3ms/step - loss: 0.1945 - accuracy: 0.9182\n",
            "Epoch 265/400\n",
            "142/142 [==============================] - 0s 3ms/step - loss: 0.1941 - accuracy: 0.9177\n",
            "Epoch 266/400\n",
            "142/142 [==============================] - 0s 3ms/step - loss: 0.1946 - accuracy: 0.9188\n",
            "Epoch 267/400\n",
            "142/142 [==============================] - 0s 3ms/step - loss: 0.1943 - accuracy: 0.9179\n",
            "Epoch 268/400\n",
            "142/142 [==============================] - 0s 2ms/step - loss: 0.1945 - accuracy: 0.9177\n",
            "Epoch 269/400\n",
            "142/142 [==============================] - 0s 2ms/step - loss: 0.1947 - accuracy: 0.9184\n",
            "Epoch 270/400\n",
            "142/142 [==============================] - 0s 2ms/step - loss: 0.1940 - accuracy: 0.9177\n",
            "Epoch 271/400\n",
            "142/142 [==============================] - 0s 2ms/step - loss: 0.1942 - accuracy: 0.9208\n",
            "Epoch 272/400\n",
            "142/142 [==============================] - 0s 2ms/step - loss: 0.1940 - accuracy: 0.9186\n",
            "Epoch 273/400\n",
            "142/142 [==============================] - 0s 2ms/step - loss: 0.1942 - accuracy: 0.9186\n",
            "Epoch 274/400\n",
            "142/142 [==============================] - 0s 2ms/step - loss: 0.1937 - accuracy: 0.9188\n",
            "Epoch 275/400\n",
            "142/142 [==============================] - 0s 2ms/step - loss: 0.1939 - accuracy: 0.9204\n",
            "Epoch 276/400\n",
            "142/142 [==============================] - 0s 2ms/step - loss: 0.1932 - accuracy: 0.9195\n",
            "Epoch 277/400\n",
            "142/142 [==============================] - 0s 2ms/step - loss: 0.1947 - accuracy: 0.9171\n",
            "Epoch 278/400\n",
            "142/142 [==============================] - 0s 2ms/step - loss: 0.1934 - accuracy: 0.9204\n",
            "Epoch 279/400\n",
            "142/142 [==============================] - 0s 2ms/step - loss: 0.1938 - accuracy: 0.9213\n",
            "Epoch 280/400\n",
            "142/142 [==============================] - 0s 2ms/step - loss: 0.1935 - accuracy: 0.9219\n",
            "Epoch 281/400\n",
            "142/142 [==============================] - 0s 2ms/step - loss: 0.1934 - accuracy: 0.9188\n",
            "Epoch 282/400\n",
            "142/142 [==============================] - 0s 2ms/step - loss: 0.1956 - accuracy: 0.9190\n",
            "Epoch 283/400\n",
            "142/142 [==============================] - 0s 2ms/step - loss: 0.1944 - accuracy: 0.9210\n",
            "Epoch 284/400\n",
            "142/142 [==============================] - 0s 2ms/step - loss: 0.1933 - accuracy: 0.9195\n",
            "Epoch 285/400\n",
            "142/142 [==============================] - 0s 2ms/step - loss: 0.1945 - accuracy: 0.9188\n",
            "Epoch 286/400\n",
            "142/142 [==============================] - 0s 2ms/step - loss: 0.1943 - accuracy: 0.9190\n",
            "Epoch 287/400\n",
            "142/142 [==============================] - 0s 2ms/step - loss: 0.1930 - accuracy: 0.9186\n",
            "Epoch 288/400\n",
            "142/142 [==============================] - 0s 2ms/step - loss: 0.1929 - accuracy: 0.9206\n",
            "Epoch 289/400\n",
            "142/142 [==============================] - 0s 3ms/step - loss: 0.1942 - accuracy: 0.9195\n",
            "Epoch 290/400\n",
            "142/142 [==============================] - 0s 2ms/step - loss: 0.1946 - accuracy: 0.9210\n",
            "Epoch 291/400\n",
            "142/142 [==============================] - 0s 2ms/step - loss: 0.1938 - accuracy: 0.9224\n",
            "Epoch 292/400\n",
            "142/142 [==============================] - 0s 2ms/step - loss: 0.1935 - accuracy: 0.9197\n",
            "Epoch 293/400\n",
            "142/142 [==============================] - 0s 2ms/step - loss: 0.1934 - accuracy: 0.9219\n",
            "Epoch 294/400\n",
            "142/142 [==============================] - 0s 2ms/step - loss: 0.1930 - accuracy: 0.9219\n",
            "Epoch 295/400\n",
            "142/142 [==============================] - 0s 2ms/step - loss: 0.1931 - accuracy: 0.9199\n",
            "Epoch 296/400\n",
            "142/142 [==============================] - 0s 2ms/step - loss: 0.1939 - accuracy: 0.9215\n",
            "Epoch 297/400\n",
            "142/142 [==============================] - 0s 2ms/step - loss: 0.1928 - accuracy: 0.9204\n",
            "Epoch 298/400\n",
            "142/142 [==============================] - 0s 3ms/step - loss: 0.1937 - accuracy: 0.9206\n",
            "Epoch 299/400\n",
            "142/142 [==============================] - 0s 3ms/step - loss: 0.1931 - accuracy: 0.9204\n",
            "Epoch 300/400\n",
            "142/142 [==============================] - 0s 3ms/step - loss: 0.1939 - accuracy: 0.9186\n",
            "Epoch 301/400\n",
            "142/142 [==============================] - 0s 3ms/step - loss: 0.1934 - accuracy: 0.9210\n",
            "Epoch 302/400\n",
            "142/142 [==============================] - 0s 3ms/step - loss: 0.1937 - accuracy: 0.9208\n",
            "Epoch 303/400\n",
            "142/142 [==============================] - 0s 3ms/step - loss: 0.1927 - accuracy: 0.9210\n",
            "Epoch 304/400\n",
            "142/142 [==============================] - 0s 3ms/step - loss: 0.1936 - accuracy: 0.9204\n",
            "Epoch 305/400\n",
            "142/142 [==============================] - 0s 3ms/step - loss: 0.1939 - accuracy: 0.9219\n",
            "Epoch 306/400\n",
            "142/142 [==============================] - 0s 3ms/step - loss: 0.1936 - accuracy: 0.9210\n",
            "Epoch 307/400\n",
            "142/142 [==============================] - 1s 4ms/step - loss: 0.1939 - accuracy: 0.9208\n",
            "Epoch 308/400\n",
            "142/142 [==============================] - 0s 3ms/step - loss: 0.1938 - accuracy: 0.9204\n",
            "Epoch 309/400\n",
            "142/142 [==============================] - 0s 3ms/step - loss: 0.1941 - accuracy: 0.9217\n",
            "Epoch 310/400\n",
            "142/142 [==============================] - 0s 2ms/step - loss: 0.1928 - accuracy: 0.9210\n",
            "Epoch 311/400\n",
            "142/142 [==============================] - 0s 2ms/step - loss: 0.1945 - accuracy: 0.9193\n",
            "Epoch 312/400\n",
            "142/142 [==============================] - 0s 2ms/step - loss: 0.1934 - accuracy: 0.9197\n",
            "Epoch 313/400\n",
            "142/142 [==============================] - 0s 2ms/step - loss: 0.1924 - accuracy: 0.9184\n",
            "Epoch 314/400\n",
            "142/142 [==============================] - 0s 2ms/step - loss: 0.1934 - accuracy: 0.9208\n",
            "Epoch 315/400\n",
            "142/142 [==============================] - 0s 2ms/step - loss: 0.1933 - accuracy: 0.9204\n",
            "Epoch 316/400\n",
            "142/142 [==============================] - 0s 2ms/step - loss: 0.1932 - accuracy: 0.9213\n",
            "Epoch 317/400\n",
            "142/142 [==============================] - 0s 2ms/step - loss: 0.1935 - accuracy: 0.9215\n",
            "Epoch 318/400\n",
            "142/142 [==============================] - 0s 2ms/step - loss: 0.1935 - accuracy: 0.9188\n",
            "Epoch 319/400\n",
            "142/142 [==============================] - 0s 2ms/step - loss: 0.1934 - accuracy: 0.9186\n",
            "Epoch 320/400\n",
            "142/142 [==============================] - 0s 2ms/step - loss: 0.1932 - accuracy: 0.9199\n",
            "Epoch 321/400\n",
            "142/142 [==============================] - 0s 2ms/step - loss: 0.1935 - accuracy: 0.9206\n",
            "Epoch 322/400\n",
            "142/142 [==============================] - 0s 2ms/step - loss: 0.1923 - accuracy: 0.9215\n",
            "Epoch 323/400\n",
            "142/142 [==============================] - 0s 2ms/step - loss: 0.1916 - accuracy: 0.9202\n",
            "Epoch 324/400\n",
            "142/142 [==============================] - 0s 2ms/step - loss: 0.1933 - accuracy: 0.9204\n",
            "Epoch 325/400\n",
            "142/142 [==============================] - 0s 2ms/step - loss: 0.1923 - accuracy: 0.9199\n",
            "Epoch 326/400\n",
            "142/142 [==============================] - 0s 2ms/step - loss: 0.1924 - accuracy: 0.9195\n",
            "Epoch 327/400\n",
            "142/142 [==============================] - 0s 2ms/step - loss: 0.1925 - accuracy: 0.9199\n",
            "Epoch 328/400\n",
            "142/142 [==============================] - 0s 2ms/step - loss: 0.1947 - accuracy: 0.9221\n",
            "Epoch 329/400\n",
            "142/142 [==============================] - 0s 2ms/step - loss: 0.1933 - accuracy: 0.9199\n",
            "Epoch 330/400\n",
            "142/142 [==============================] - 0s 2ms/step - loss: 0.1930 - accuracy: 0.9221\n",
            "Epoch 331/400\n",
            "142/142 [==============================] - 0s 2ms/step - loss: 0.1926 - accuracy: 0.9219\n",
            "Epoch 332/400\n",
            "142/142 [==============================] - 0s 2ms/step - loss: 0.1928 - accuracy: 0.9206\n",
            "Epoch 333/400\n",
            "142/142 [==============================] - 0s 2ms/step - loss: 0.1926 - accuracy: 0.9226\n",
            "Epoch 334/400\n",
            "142/142 [==============================] - 0s 2ms/step - loss: 0.1927 - accuracy: 0.9204\n",
            "Epoch 335/400\n",
            "142/142 [==============================] - 0s 2ms/step - loss: 0.1930 - accuracy: 0.9202\n",
            "Epoch 336/400\n",
            "142/142 [==============================] - 0s 2ms/step - loss: 0.1938 - accuracy: 0.9210\n",
            "Epoch 337/400\n",
            "142/142 [==============================] - 0s 2ms/step - loss: 0.1921 - accuracy: 0.9217\n",
            "Epoch 338/400\n",
            "142/142 [==============================] - 0s 2ms/step - loss: 0.1927 - accuracy: 0.9190\n",
            "Epoch 339/400\n",
            "142/142 [==============================] - 0s 3ms/step - loss: 0.1930 - accuracy: 0.9202\n",
            "Epoch 340/400\n",
            "142/142 [==============================] - 0s 3ms/step - loss: 0.1937 - accuracy: 0.9210\n",
            "Epoch 341/400\n",
            "142/142 [==============================] - 1s 4ms/step - loss: 0.1927 - accuracy: 0.9204\n",
            "Epoch 342/400\n",
            "142/142 [==============================] - 0s 3ms/step - loss: 0.1917 - accuracy: 0.9221\n",
            "Epoch 343/400\n",
            "142/142 [==============================] - 0s 3ms/step - loss: 0.1929 - accuracy: 0.9206\n",
            "Epoch 344/400\n",
            "142/142 [==============================] - 0s 3ms/step - loss: 0.1925 - accuracy: 0.9206\n",
            "Epoch 345/400\n",
            "142/142 [==============================] - 0s 3ms/step - loss: 0.1928 - accuracy: 0.9197\n",
            "Epoch 346/400\n",
            "142/142 [==============================] - 1s 4ms/step - loss: 0.1917 - accuracy: 0.9199\n",
            "Epoch 347/400\n",
            "142/142 [==============================] - 0s 3ms/step - loss: 0.1918 - accuracy: 0.9224\n",
            "Epoch 348/400\n",
            "142/142 [==============================] - 0s 3ms/step - loss: 0.1915 - accuracy: 0.9204\n",
            "Epoch 349/400\n",
            "142/142 [==============================] - 1s 4ms/step - loss: 0.1919 - accuracy: 0.9206\n",
            "Epoch 350/400\n",
            "142/142 [==============================] - 0s 3ms/step - loss: 0.1917 - accuracy: 0.9202\n",
            "Epoch 351/400\n",
            "142/142 [==============================] - 0s 3ms/step - loss: 0.1916 - accuracy: 0.9208\n",
            "Epoch 352/400\n",
            "142/142 [==============================] - 0s 2ms/step - loss: 0.1929 - accuracy: 0.9204\n",
            "Epoch 353/400\n",
            "142/142 [==============================] - 0s 2ms/step - loss: 0.1915 - accuracy: 0.9228\n",
            "Epoch 354/400\n",
            "142/142 [==============================] - 0s 2ms/step - loss: 0.1925 - accuracy: 0.9217\n",
            "Epoch 355/400\n",
            "142/142 [==============================] - 0s 2ms/step - loss: 0.1909 - accuracy: 0.9215\n",
            "Epoch 356/400\n",
            "142/142 [==============================] - 0s 2ms/step - loss: 0.1919 - accuracy: 0.9213\n",
            "Epoch 357/400\n",
            "142/142 [==============================] - 0s 2ms/step - loss: 0.1924 - accuracy: 0.9195\n",
            "Epoch 358/400\n",
            "142/142 [==============================] - 0s 2ms/step - loss: 0.1928 - accuracy: 0.9213\n",
            "Epoch 359/400\n",
            "142/142 [==============================] - 0s 2ms/step - loss: 0.1922 - accuracy: 0.9208\n",
            "Epoch 360/400\n",
            "142/142 [==============================] - 0s 2ms/step - loss: 0.1915 - accuracy: 0.9213\n",
            "Epoch 361/400\n",
            "142/142 [==============================] - 0s 2ms/step - loss: 0.1919 - accuracy: 0.9213\n",
            "Epoch 362/400\n",
            "142/142 [==============================] - 0s 2ms/step - loss: 0.1907 - accuracy: 0.9202\n",
            "Epoch 363/400\n",
            "142/142 [==============================] - 0s 2ms/step - loss: 0.1924 - accuracy: 0.9204\n",
            "Epoch 364/400\n",
            "142/142 [==============================] - 0s 2ms/step - loss: 0.1913 - accuracy: 0.9208\n",
            "Epoch 365/400\n",
            "142/142 [==============================] - 0s 2ms/step - loss: 0.1908 - accuracy: 0.9219\n",
            "Epoch 366/400\n",
            "142/142 [==============================] - 0s 2ms/step - loss: 0.1921 - accuracy: 0.9221\n",
            "Epoch 367/400\n",
            "142/142 [==============================] - 0s 2ms/step - loss: 0.1915 - accuracy: 0.9210\n",
            "Epoch 368/400\n",
            "142/142 [==============================] - 0s 2ms/step - loss: 0.1925 - accuracy: 0.9235\n",
            "Epoch 369/400\n",
            "142/142 [==============================] - 0s 2ms/step - loss: 0.1913 - accuracy: 0.9204\n",
            "Epoch 370/400\n",
            "142/142 [==============================] - 0s 2ms/step - loss: 0.1927 - accuracy: 0.9228\n",
            "Epoch 371/400\n",
            "142/142 [==============================] - 0s 2ms/step - loss: 0.1912 - accuracy: 0.9217\n",
            "Epoch 372/400\n",
            "142/142 [==============================] - 0s 2ms/step - loss: 0.1912 - accuracy: 0.9206\n",
            "Epoch 373/400\n",
            "142/142 [==============================] - 0s 2ms/step - loss: 0.1911 - accuracy: 0.9219\n",
            "Epoch 374/400\n",
            "142/142 [==============================] - 0s 2ms/step - loss: 0.1916 - accuracy: 0.9217\n",
            "Epoch 375/400\n",
            "142/142 [==============================] - 0s 2ms/step - loss: 0.1905 - accuracy: 0.9217\n",
            "Epoch 376/400\n",
            "142/142 [==============================] - 0s 2ms/step - loss: 0.1913 - accuracy: 0.9213\n",
            "Epoch 377/400\n",
            "142/142 [==============================] - 0s 2ms/step - loss: 0.1910 - accuracy: 0.9228\n",
            "Epoch 378/400\n",
            "142/142 [==============================] - 0s 2ms/step - loss: 0.1917 - accuracy: 0.9188\n",
            "Epoch 379/400\n",
            "142/142 [==============================] - 0s 2ms/step - loss: 0.1923 - accuracy: 0.9221\n",
            "Epoch 380/400\n",
            "142/142 [==============================] - 0s 2ms/step - loss: 0.1925 - accuracy: 0.9197\n",
            "Epoch 381/400\n",
            "142/142 [==============================] - 0s 2ms/step - loss: 0.1918 - accuracy: 0.9226\n",
            "Epoch 382/400\n",
            "142/142 [==============================] - 0s 2ms/step - loss: 0.1914 - accuracy: 0.9219\n",
            "Epoch 383/400\n",
            "142/142 [==============================] - 0s 3ms/step - loss: 0.1914 - accuracy: 0.9215\n",
            "Epoch 384/400\n",
            "142/142 [==============================] - 0s 3ms/step - loss: 0.1908 - accuracy: 0.9210\n",
            "Epoch 385/400\n",
            "142/142 [==============================] - 0s 3ms/step - loss: 0.1910 - accuracy: 0.9215\n",
            "Epoch 386/400\n",
            "142/142 [==============================] - 0s 3ms/step - loss: 0.1919 - accuracy: 0.9224\n",
            "Epoch 387/400\n",
            "142/142 [==============================] - 0s 3ms/step - loss: 0.1912 - accuracy: 0.9206\n",
            "Epoch 388/400\n",
            "142/142 [==============================] - 0s 3ms/step - loss: 0.1907 - accuracy: 0.9232\n",
            "Epoch 389/400\n",
            "142/142 [==============================] - 0s 3ms/step - loss: 0.1924 - accuracy: 0.9224\n",
            "Epoch 390/400\n",
            "142/142 [==============================] - 0s 3ms/step - loss: 0.1915 - accuracy: 0.9193\n",
            "Epoch 391/400\n",
            "142/142 [==============================] - 1s 4ms/step - loss: 0.1912 - accuracy: 0.9230\n",
            "Epoch 392/400\n",
            "142/142 [==============================] - 0s 3ms/step - loss: 0.1911 - accuracy: 0.9190\n",
            "Epoch 393/400\n",
            "142/142 [==============================] - 0s 3ms/step - loss: 0.1919 - accuracy: 0.9208\n",
            "Epoch 394/400\n",
            "142/142 [==============================] - 0s 3ms/step - loss: 0.1907 - accuracy: 0.9219\n",
            "Epoch 395/400\n",
            "142/142 [==============================] - 0s 2ms/step - loss: 0.1899 - accuracy: 0.9219\n",
            "Epoch 396/400\n",
            "142/142 [==============================] - 0s 2ms/step - loss: 0.1919 - accuracy: 0.9195\n",
            "Epoch 397/400\n",
            "142/142 [==============================] - 0s 2ms/step - loss: 0.1904 - accuracy: 0.9226\n",
            "Epoch 398/400\n",
            "142/142 [==============================] - 0s 2ms/step - loss: 0.1901 - accuracy: 0.9221\n",
            "Epoch 399/400\n",
            "142/142 [==============================] - 0s 2ms/step - loss: 0.1910 - accuracy: 0.9217\n",
            "Epoch 400/400\n",
            "142/142 [==============================] - 0s 2ms/step - loss: 0.1915 - accuracy: 0.9217\n"
          ]
        },
        {
          "output_type": "execute_result",
          "data": {
            "text/plain": [
              "<keras.callbacks.History at 0x7fa9e99744c0>"
            ]
          },
          "metadata": {},
          "execution_count": 24
        }
      ]
    },
    {
      "cell_type": "code",
      "execution_count": 25,
      "metadata": {
        "colab": {
          "base_uri": "https://localhost:8080/"
        },
        "id": "n9-J6iWDQRfu",
        "outputId": "24d5c2be-b112-4699-c962-ab71b58eaa6e"
      },
      "outputs": [
        {
          "output_type": "stream",
          "name": "stdout",
          "text": [
            "142/142 [==============================] - 1s 4ms/step - loss: 0.1888 - accuracy: 0.9235\n"
          ]
        },
        {
          "output_type": "execute_result",
          "data": {
            "text/plain": [
              "[0.1887604147195816, 0.9234682321548462]"
            ]
          },
          "metadata": {},
          "execution_count": 25
        }
      ],
      "source": [
        "# Evaluating the model\n",
        "model.evaluate(X, y)"
      ],
      "id": "n9-J6iWDQRfu"
    },
    {
      "cell_type": "markdown",
      "metadata": {
        "id": "7HH6b5aCQ40c"
      },
      "source": [
        "Task 3"
      ],
      "id": "7HH6b5aCQ40c"
    },
    {
      "cell_type": "code",
      "execution_count": 26,
      "metadata": {
        "id": "Go2qauruQ7gr"
      },
      "outputs": [],
      "source": [
        "# Splitting the data into train and test sets\n",
        "from sklearn.model_selection import train_test_split\n"
      ],
      "id": "Go2qauruQ7gr"
    },
    {
      "cell_type": "code",
      "execution_count": 27,
      "metadata": {
        "id": "C_zi01-KRBhP"
      },
      "outputs": [],
      "source": [
        "# # Segregating the features and labels\n",
        "# X = bank_data.drop(\"y\", axis=1)\n",
        "# print(X)\n",
        "# #X = np.asarray(X).astype(np.float32)\n",
        "# y = bank_data[\"y\"]\n",
        "\n",
        "# y = np.asarray(y).astype(np.float32)"
      ],
      "id": "C_zi01-KRBhP"
    },
    {
      "cell_type": "code",
      "execution_count": 28,
      "metadata": {
        "id": "4-6XXntjRFNa"
      },
      "outputs": [],
      "source": [
        "# Splitting the data into train and test sets\n",
        "X_train, X_test, y_train, y_test = train_test_split(X, y, test_size=0.2, random_state=42)"
      ],
      "id": "4-6XXntjRFNa"
    },
    {
      "cell_type": "code",
      "execution_count": 29,
      "metadata": {
        "id": "ABkYOtlBRI4A"
      },
      "outputs": [],
      "source": [
        "# Building the model\n",
        "# Setting the random seed\n",
        "np.random.seed(42)\n",
        "tf.random.set_seed(42)"
      ],
      "id": "ABkYOtlBRI4A"
    },
    {
      "cell_type": "code",
      "execution_count": 30,
      "metadata": {
        "id": "7JSy0vlCRPDB"
      },
      "outputs": [],
      "source": [
        "# Building the model\n",
        "model = Sequential([\n",
        "    Dense(4, activation=\"relu\", input_shape=(51,)),\n",
        "    Dense(4, activation=\"relu\"),\n",
        "    Dense(1, activation=\"sigmoid\")\n",
        "])"
      ],
      "id": "7JSy0vlCRPDB"
    },
    {
      "cell_type": "code",
      "execution_count": 31,
      "metadata": {
        "id": "ccdylDiORSaG"
      },
      "outputs": [],
      "source": [
        "# Compiling the model\n",
        "model.compile(loss=\"binary_crossentropy\",\n",
        "              optimizer=\"adam\",\n",
        "              metrics=[\"accuracy\"])\n"
      ],
      "id": "ccdylDiORSaG"
    },
    {
      "cell_type": "code",
      "execution_count": 32,
      "metadata": {
        "id": "72ZNO3EARXSY"
      },
      "outputs": [],
      "source": [
        "# Setting up early stopping\n",
        "from tensorflow.keras.callbacks import EarlyStopping\n",
        "early_stopping = EarlyStopping(patience=2)"
      ],
      "id": "72ZNO3EARXSY"
    },
    {
      "cell_type": "code",
      "execution_count": 33,
      "metadata": {
        "colab": {
          "base_uri": "https://localhost:8080/"
        },
        "id": "oginFIF1RZ5N",
        "outputId": "278b229a-1134-47b5-a3fb-a10cf6c91698"
      },
      "outputs": [
        {
          "output_type": "stream",
          "name": "stdout",
          "text": [
            "Epoch 1/20\n",
            "113/113 [==============================] - 1s 4ms/step - loss: 1.0119 - accuracy: 0.3910 - val_loss: 0.6867 - val_accuracy: 0.7680\n",
            "Epoch 2/20\n",
            "113/113 [==============================] - 0s 3ms/step - loss: 0.6466 - accuracy: 0.8532 - val_loss: 0.6334 - val_accuracy: 0.8895\n",
            "Epoch 3/20\n",
            "113/113 [==============================] - 0s 3ms/step - loss: 0.6115 - accuracy: 0.8822 - val_loss: 0.6013 - val_accuracy: 0.8862\n",
            "Epoch 4/20\n",
            "113/113 [==============================] - 0s 2ms/step - loss: 0.5823 - accuracy: 0.8858 - val_loss: 0.5722 - val_accuracy: 0.8884\n",
            "Epoch 5/20\n",
            "113/113 [==============================] - 0s 2ms/step - loss: 0.5553 - accuracy: 0.8861 - val_loss: 0.5455 - val_accuracy: 0.8895\n",
            "Epoch 6/20\n",
            "113/113 [==============================] - 0s 3ms/step - loss: 0.5306 - accuracy: 0.8863 - val_loss: 0.5215 - val_accuracy: 0.8895\n",
            "Epoch 7/20\n",
            "113/113 [==============================] - 0s 3ms/step - loss: 0.5080 - accuracy: 0.8863 - val_loss: 0.4999 - val_accuracy: 0.8895\n",
            "Epoch 8/20\n",
            "113/113 [==============================] - 0s 3ms/step - loss: 0.4872 - accuracy: 0.8869 - val_loss: 0.4801 - val_accuracy: 0.8906\n",
            "Epoch 9/20\n",
            "113/113 [==============================] - 0s 3ms/step - loss: 0.4679 - accuracy: 0.8877 - val_loss: 0.4622 - val_accuracy: 0.8917\n",
            "Epoch 10/20\n",
            "113/113 [==============================] - 0s 2ms/step - loss: 0.4500 - accuracy: 0.8891 - val_loss: 0.4455 - val_accuracy: 0.8950\n",
            "Epoch 11/20\n",
            "113/113 [==============================] - 0s 3ms/step - loss: 0.4334 - accuracy: 0.8891 - val_loss: 0.4305 - val_accuracy: 0.8928\n",
            "Epoch 12/20\n",
            "113/113 [==============================] - 0s 3ms/step - loss: 0.4182 - accuracy: 0.8897 - val_loss: 0.4163 - val_accuracy: 0.8906\n",
            "Epoch 13/20\n",
            "113/113 [==============================] - 0s 4ms/step - loss: 0.4040 - accuracy: 0.8941 - val_loss: 0.4029 - val_accuracy: 0.8917\n",
            "Epoch 14/20\n",
            "113/113 [==============================] - 0s 4ms/step - loss: 0.3909 - accuracy: 0.8949 - val_loss: 0.3913 - val_accuracy: 0.8917\n",
            "Epoch 15/20\n",
            "113/113 [==============================] - 0s 4ms/step - loss: 0.3787 - accuracy: 0.8971 - val_loss: 0.3800 - val_accuracy: 0.8928\n",
            "Epoch 16/20\n",
            "113/113 [==============================] - 0s 4ms/step - loss: 0.3673 - accuracy: 0.8999 - val_loss: 0.3705 - val_accuracy: 0.8928\n",
            "Epoch 17/20\n",
            "113/113 [==============================] - 1s 5ms/step - loss: 0.3570 - accuracy: 0.9024 - val_loss: 0.3616 - val_accuracy: 0.8961\n",
            "Epoch 18/20\n",
            "113/113 [==============================] - 0s 4ms/step - loss: 0.3473 - accuracy: 0.9027 - val_loss: 0.3538 - val_accuracy: 0.9017\n",
            "Epoch 19/20\n",
            "113/113 [==============================] - 0s 3ms/step - loss: 0.3386 - accuracy: 0.9032 - val_loss: 0.3465 - val_accuracy: 0.9028\n",
            "Epoch 20/20\n",
            "113/113 [==============================] - 0s 3ms/step - loss: 0.3308 - accuracy: 0.9051 - val_loss: 0.3394 - val_accuracy: 0.8972\n"
          ]
        },
        {
          "output_type": "execute_result",
          "data": {
            "text/plain": [
              "<keras.callbacks.History at 0x7fa9ea3be670>"
            ]
          },
          "metadata": {},
          "execution_count": 33
        }
      ],
      "source": [
        "# Training the model\n",
        "model.fit(X_train,\n",
        "          y_train,\n",
        "          epochs=20,\n",
        "          batch_size=32,\n",
        "          validation_data=(X_test, y_test),\n",
        "          callbacks=[early_stopping])"
      ],
      "id": "oginFIF1RZ5N"
    },
    {
      "cell_type": "code",
      "execution_count": 34,
      "metadata": {
        "colab": {
          "base_uri": "https://localhost:8080/"
        },
        "id": "sL8WqI1URhge",
        "outputId": "cd99f401-1424-48dd-c3d0-7e5e32dac8dc"
      },
      "outputs": [
        {
          "output_type": "stream",
          "name": "stdout",
          "text": [
            "29/29 [==============================] - 0s 2ms/step - loss: 0.3394 - accuracy: 0.8972\n"
          ]
        },
        {
          "output_type": "execute_result",
          "data": {
            "text/plain": [
              "[0.33939802646636963, 0.8972375392913818]"
            ]
          },
          "metadata": {},
          "execution_count": 34
        }
      ],
      "source": [
        "# Evaluating the model\n",
        "model.evaluate(X_test, y_test)"
      ],
      "id": "sL8WqI1URhge"
    },
    {
      "cell_type": "code",
      "execution_count": 35,
      "metadata": {
        "id": "r47UPUomRkX1"
      },
      "outputs": [],
      "source": [
        "# Saving the model\n",
        "model.save(\"model.h5\")"
      ],
      "id": "r47UPUomRkX1"
    },
    {
      "cell_type": "markdown",
      "metadata": {
        "id": "vZ3_B0l7RptA"
      },
      "source": [
        "Task 4"
      ],
      "id": "vZ3_B0l7RptA"
    },
    {
      "cell_type": "code",
      "execution_count": 36,
      "metadata": {
        "id": "tox5MuFgRwd9"
      },
      "outputs": [],
      "source": [
        "# Building the Model\n",
        "# Importing Libraries\n",
        "import tensorflow as tf\n",
        "from tensorflow.keras.models import Sequential\n",
        "from tensorflow.keras.layers import Dense"
      ],
      "id": "tox5MuFgRwd9"
    },
    {
      "cell_type": "code",
      "execution_count": 37,
      "metadata": {
        "id": "ksp-FGC8R2q6"
      },
      "outputs": [],
      "source": [
        "# Setting the random seed\n",
        "np.random.seed(42)\n",
        "tf.random.set_seed(42)"
      ],
      "id": "ksp-FGC8R2q6"
    },
    {
      "cell_type": "code",
      "execution_count": 38,
      "metadata": {
        "id": "-ZWFi9nmR7_g"
      },
      "outputs": [],
      "source": [
        "# Building the model\n",
        "model = Sequential([\n",
        "    Dense(4, activation=\"relu\", input_shape=(51,)),\n",
        "    Dense(4, activation=\"relu\"),\n",
        "    Dense(1, activation=\"sigmoid\")\n",
        "])\n"
      ],
      "id": "-ZWFi9nmR7_g"
    },
    {
      "cell_type": "code",
      "execution_count": 39,
      "metadata": {
        "id": "7W7nolOIR-5O"
      },
      "outputs": [],
      "source": [
        "# Compiling the model\n",
        "model.compile(loss=\"binary_crossentropy\",\n",
        "              optimizer=\"adam\",\n",
        "              metrics=[\"accuracy\"])\n"
      ],
      "id": "7W7nolOIR-5O"
    },
    {
      "cell_type": "code",
      "execution_count": 40,
      "metadata": {
        "colab": {
          "base_uri": "https://localhost:8080/"
        },
        "id": "TTe9Te9RSSie",
        "outputId": "8177d8c9-0156-4680-e016-347f83e8f043"
      },
      "outputs": [
        {
          "output_type": "stream",
          "name": "stdout",
          "text": [
            "Epoch 1/20\n",
            "113/113 [==============================] - 1s 4ms/step - loss: 0.5711 - accuracy: 0.8573 - val_loss: 0.4593 - val_accuracy: 0.8475\n",
            "Epoch 2/20\n",
            "113/113 [==============================] - 0s 3ms/step - loss: 0.4363 - accuracy: 0.8678 - val_loss: 0.4029 - val_accuracy: 0.8917\n",
            "Epoch 3/20\n",
            "113/113 [==============================] - 0s 2ms/step - loss: 0.3921 - accuracy: 0.8827 - val_loss: 0.3674 - val_accuracy: 0.8917\n",
            "Epoch 4/20\n",
            "113/113 [==============================] - 0s 2ms/step - loss: 0.3601 - accuracy: 0.8830 - val_loss: 0.3386 - val_accuracy: 0.8917\n",
            "Epoch 5/20\n",
            "113/113 [==============================] - 0s 2ms/step - loss: 0.3340 - accuracy: 0.8830 - val_loss: 0.3149 - val_accuracy: 0.8917\n",
            "Epoch 6/20\n",
            "113/113 [==============================] - 0s 3ms/step - loss: 0.3122 - accuracy: 0.8836 - val_loss: 0.2958 - val_accuracy: 0.8917\n",
            "Epoch 7/20\n",
            "113/113 [==============================] - 0s 2ms/step - loss: 0.2946 - accuracy: 0.8838 - val_loss: 0.2804 - val_accuracy: 0.8917\n",
            "Epoch 8/20\n",
            "113/113 [==============================] - 0s 2ms/step - loss: 0.2795 - accuracy: 0.8833 - val_loss: 0.2687 - val_accuracy: 0.8917\n",
            "Epoch 9/20\n",
            "113/113 [==============================] - 0s 3ms/step - loss: 0.2678 - accuracy: 0.8847 - val_loss: 0.2591 - val_accuracy: 0.8895\n",
            "Epoch 10/20\n",
            "113/113 [==============================] - 0s 3ms/step - loss: 0.2587 - accuracy: 0.8858 - val_loss: 0.2513 - val_accuracy: 0.8906\n",
            "Epoch 11/20\n",
            "113/113 [==============================] - 0s 3ms/step - loss: 0.2515 - accuracy: 0.8861 - val_loss: 0.2476 - val_accuracy: 0.8906\n",
            "Epoch 12/20\n",
            "113/113 [==============================] - 0s 3ms/step - loss: 0.2464 - accuracy: 0.8880 - val_loss: 0.2461 - val_accuracy: 0.8928\n",
            "Epoch 13/20\n",
            "113/113 [==============================] - 0s 2ms/step - loss: 0.2420 - accuracy: 0.8960 - val_loss: 0.2458 - val_accuracy: 0.8928\n",
            "Epoch 14/20\n",
            "113/113 [==============================] - 0s 3ms/step - loss: 0.2397 - accuracy: 0.8971 - val_loss: 0.2431 - val_accuracy: 0.8994\n",
            "Epoch 15/20\n",
            "113/113 [==============================] - 0s 3ms/step - loss: 0.2371 - accuracy: 0.8996 - val_loss: 0.2411 - val_accuracy: 0.8983\n",
            "Epoch 16/20\n",
            "113/113 [==============================] - 0s 3ms/step - loss: 0.2350 - accuracy: 0.9015 - val_loss: 0.2406 - val_accuracy: 0.9017\n",
            "Epoch 17/20\n",
            "113/113 [==============================] - 0s 2ms/step - loss: 0.2340 - accuracy: 0.9004 - val_loss: 0.2389 - val_accuracy: 0.8972\n",
            "Epoch 18/20\n",
            "113/113 [==============================] - 0s 2ms/step - loss: 0.2327 - accuracy: 0.9002 - val_loss: 0.2396 - val_accuracy: 0.8961\n",
            "Epoch 19/20\n",
            "113/113 [==============================] - 0s 2ms/step - loss: 0.2321 - accuracy: 0.9010 - val_loss: 0.2376 - val_accuracy: 0.8939\n",
            "Epoch 20/20\n",
            "113/113 [==============================] - 0s 2ms/step - loss: 0.2301 - accuracy: 0.9021 - val_loss: 0.2372 - val_accuracy: 0.8972\n"
          ]
        },
        {
          "output_type": "execute_result",
          "data": {
            "text/plain": [
              "<keras.callbacks.History at 0x7fa9ea1c2640>"
            ]
          },
          "metadata": {},
          "execution_count": 40
        }
      ],
      "source": [
        "# Training the model\n",
        "model.fit(X_train,\n",
        "          y_train,\n",
        "          epochs=20,\n",
        "          batch_size=32,\n",
        "          validation_data=(X_test, y_test),\n",
        "          callbacks=[early_stopping])\n"
      ],
      "id": "TTe9Te9RSSie"
    },
    {
      "cell_type": "code",
      "execution_count": 41,
      "metadata": {
        "colab": {
          "base_uri": "https://localhost:8080/"
        },
        "id": "hW4rg_HySVed",
        "outputId": "9914561d-3e97-4e71-88bb-154a7434e130"
      },
      "outputs": [
        {
          "output_type": "stream",
          "name": "stdout",
          "text": [
            "29/29 [==============================] - 0s 2ms/step - loss: 0.2372 - accuracy: 0.8972\n"
          ]
        },
        {
          "output_type": "execute_result",
          "data": {
            "text/plain": [
              "[0.23724579811096191, 0.8972375392913818]"
            ]
          },
          "metadata": {},
          "execution_count": 41
        }
      ],
      "source": [
        "# Evaluating the model\n",
        "model.evaluate(X_test, y_test)"
      ],
      "id": "hW4rg_HySVed"
    },
    {
      "cell_type": "code",
      "execution_count": 42,
      "metadata": {
        "id": "jeoUrKyGSZ80"
      },
      "outputs": [],
      "source": [
        "# Saving the model\n",
        "model.save(\"model.h5\")"
      ],
      "id": "jeoUrKyGSZ80"
    },
    {
      "cell_type": "code",
      "source": [
        "# Importing Libraries\n",
        "import pandas as pd\n",
        "import numpy as np\n",
        "import matplotlib.pyplot as plt\n",
        "\n",
        "# Loading the Data\n",
        "bank_data = pd.read_csv(\"/content/drive/MyDrive/AI/bank.csv\", sep=\";\")\n",
        "\n",
        "# Separating Features and Labels\n",
        "features = bank_data.drop(\"y\", axis=1)\n",
        "labels = bank_data[\"y\"]\n",
        "\n",
        "# Training the Model\n",
        "# Train a model for each feature\n",
        "# Initializing the Model\n",
        "model_list = []\n",
        "\n",
        "\n",
        "for f in features.columns:\n",
        "    # Encoding Categorical Data\n",
        "    if bank_data[f].dtypes == 'object':\n",
        "        X = pd.get_dummies(features[f]).values\n",
        "    else:\n",
        "        X = features[f].values \n",
        "    y = labels.values\n",
        "\n",
        "\n",
        "# Splitting the Dataset\n",
        "from sklearn.model_selection import train_test_split\n",
        "X_train, X_test, y_train, y_test = train_test_split(X, y, test_size=0.2, random_state=0)\n",
        "\n",
        "# Feature Scaling\n",
        "from sklearn.preprocessing import StandardScaler\n",
        "sc = StandardScaler()\n",
        "X_train = sc.fit_transform(X_train)\n",
        "X_test = sc.transform(X_test)\n",
        "\n",
        "# Fitting the Model\n",
        "from sklearn.neighbors import KNeighborsClassifier\n",
        "classifier = KNeighborsClassifier(n_neighbors = 5, metric = 'minkowski', p = 2)\n",
        "classifier.fit(X_train, y_train)\n",
        "\n",
        "# Model Evaluation\n",
        "from sklearn.metrics import confusion_matrix, accuracy_score\n",
        "y_pred = classifier.predict(X_test)\n",
        "cm = confusion_matrix(y_test, y_pred)\n",
        "acc = accuracy_score(y_test, y_pred)\n",
        "model_list.append([f, cm, acc])\n",
        "\n",
        "# Plotting the Accuracy\n",
        "accuracies = [model[2] for model in model_list]\n",
        "x_axis = [model[0] for model in model_list]\n",
        "plt.bar(x_axis, accuracies, color='green')\n",
        "plt.xticks(x_axis, rotation='vertical')\n",
        "plt.ylabel('Validation Accuracy')\n",
        "plt.title('Validation Accuracy for each Feature')\n",
        "plt.show()\n",
        "\n"
      ],
      "metadata": {
        "id": "1BWKM_-Hxe68",
        "outputId": "30eabcf7-d373-4ed9-9543-78e07474c8dc",
        "colab": {
          "base_uri": "https://localhost:8080/",
          "height": 508
        }
      },
      "id": "1BWKM_-Hxe68",
      "execution_count": 45,
      "outputs": [
        {
          "output_type": "display_data",
          "data": {
            "text/plain": [
              "<Figure size 640x480 with 1 Axes>"
            ],
            "image/png": "[encoded data removed]"
          },
          "metadata": {}
        }
      ]
    },
    {
      "cell_type": "code",
      "source": [],
      "metadata": {
        "id": "P87jgkBq9h8X"
      },
      "id": "P87jgkBq9h8X",
      "execution_count": null,
      "outputs": []
    },
    {
      "cell_type": "code",
      "source": [
        "# Removing Non-informative Features\n",
        "# Sorting the models based on accuracy\n",
        "model_list.sort(key=lambda x: x[2], reverse=True)\n",
        "\n",
        "# List of Features to Remove\n",
        "feature_list = []\n",
        "\n",
        "# Iteratively Removing Non-informative Features\n",
        "for i in range(1, len(model_list)):\n",
        "    feature_list.append(model_list[i][0])\n",
        "    X = features.drop(feature_list, axis=1).values.reshape(-1,1)\n",
        "    y = labels.values.reshape(-1,1)\n",
        "\n",
        "    # Splitting the Dataset\n",
        "    from sklearn.model_selection import train_test_split\n",
        "    X_train, X_test, y_train, y_test = train_test_split(X, y, test_size=0.2, random_state=0)\n",
        "\n",
        "    # Feature Scaling\n",
        "    from sklearn.preprocessing import StandardScaler\n",
        "    sc = StandardScaler()\n",
        "    X_train = sc.fit_transform(X_train)\n",
        "    X_test = sc.transform(X_test)\n",
        "\n",
        "    # Fitting the Model\n",
        "    from sklearn.neighbors import KNeighborsClassifier\n",
        "    classifier = KNeighborsClassifier(n_neighbors = 5, metric = 'minkowski', p = 2)\n",
        "    classifier.fit(X_train, y_train)\n",
        "\n",
        "    # Model Evaluation\n",
        "    from sklearn.metrics import confusion_matrix, accuracy_score\n",
        "    y_pred = classifier.predict(X_test)\n",
        "    cm = confusion_matrix(y_test, y_pred)\n",
        "    acc = accuracy_score(y_test, y_pred)\n",
        "    print('Removed Feature: {}, Accuracy: {}'.format(model_list[i][0], acc))\n",
        "    model_list.append([f, cm, acc])\n",
        "\n",
        "# Plotting the Accuracy\n",
        "accuracies = [model[2] for model in model_list]\n",
        "x_axis = [model[0] for model in model_list]\n",
        "plt.bar(x_axis, accuracies, color='green')\n",
        "plt.xticks(x_axis, rotation='vertical')\n",
        "plt.ylabel('Validation Accuracy')\n",
        "plt.title('Validation Accuracy for each Feature')\n",
        "plt.show()"
      ],
      "metadata": {
        "id": "nQj31QSJvH77",
        "outputId": "4c56b812-42fe-485e-bcbc-46e46cafba67",
        "colab": {
          "base_uri": "https://localhost:8080/",
          "height": 508
        }
      },
      "id": "nQj31QSJvH77",
      "execution_count": 46,
      "outputs": [
        {
          "output_type": "display_data",
          "data": {
            "text/plain": [
              "<Figure size 640x480 with 1 Axes>"
            ],
            "image/png": "[encoded data removed]"
          },
          "metadata": {}
        }
      ]
    },
    {
      "cell_type": "code",
      "source": [],
      "metadata": {
        "id": "O0tFxSV-1f6E"
      },
      "id": "O0tFxSV-1f6E",
      "execution_count": null,
      "outputs": []
    }
  ],
  "metadata": {
    "colab": {
      "provenance": []
    },
    "kernelspec": {
      "display_name": "Python 3 (ipykernel)",
      "language": "python",
      "name": "python3"
    },
    "language_info": {
      "codemirror_mode": {
        "name": "ipython",
        "version": 3
      },
      "file_extension": ".py",
      "mimetype": "text/x-python",
      "name": "python",
      "nbconvert_exporter": "python",
      "pygments_lexer": "ipython3",
      "version": "3.9.12"
    }
  },
  "nbformat": 4,
  "nbformat_minor": 5
}