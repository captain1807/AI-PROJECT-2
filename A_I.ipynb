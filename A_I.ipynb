{
  "cells": [
    {
      "cell_type": "markdown",
      "id": "1b18ce03",
      "metadata": {
        "id": "1b18ce03"
      },
      "source": [
        "Task 1\n"
      ]
    },
    {
      "cell_type": "code",
      "execution_count": 1,
      "id": "2c4bf2ac",
      "metadata": {
        "id": "2c4bf2ac"
      },
      "outputs": [],
      "source": [
        "# Importing Libraries\n",
        "import pandas as pd\n",
        "import numpy as np\n",
        "import matplotlib.pyplot as plt\n",
        "import seaborn as sns"
      ]
    },
    {
      "cell_type": "code",
      "source": [
        "from google.colab import drive\n",
        "drive.mount('/content/drive')"
      ],
      "metadata": {
        "colab": {
          "base_uri": "https://localhost:8080/"
        },
        "id": "uEBP7W8EPBdI",
        "outputId": "29cbc941-2c4d-45fb-9013-f537831b025e"
      },
      "id": "uEBP7W8EPBdI",
      "execution_count": 2,
      "outputs": [
        {
          "output_type": "stream",
          "name": "stdout",
          "text": [
            "Mounted at /content/drive\n"
          ]
        }
      ]
    },
    {
      "cell_type": "code",
      "execution_count": 3,
      "id": "c8aa6a5f",
      "metadata": {
        "id": "c8aa6a5f"
      },
      "outputs": [],
      "source": [
        "# Importing Data\n",
        "# Load the dataset from UCI Machine Learning Repository\n",
        "# Dataset: Bank Marketing Datasethttps://archive.ics.uci.edu/ml/machine-learning-databases/00222/bank.csv\n",
        "bank_data = pd.read_csv(\"/content/drive/MyDrive/AI/bank.csv\", sep=\";\")"
      ]
    },
    {
      "cell_type": "code",
      "execution_count": 4,
      "id": "91026178",
      "metadata": {
        "colab": {
          "base_uri": "https://localhost:8080/",
          "height": 505
        },
        "id": "91026178",
        "outputId": "c629c04f-fc8c-41a5-b9d9-bd1461e0ec52"
      },
      "outputs": [
        {
          "output_type": "execute_result",
          "data": {
            "text/plain": [
              "      age            job  marital  education default  balance housing loan  \\\n",
              "0      30     unemployed  married    primary      no     1787      no   no   \n",
              "1      33       services  married  secondary      no     4789     yes  yes   \n",
              "2      35     management   single   tertiary      no     1350     yes   no   \n",
              "3      30     management  married   tertiary      no     1476     yes  yes   \n",
              "4      59    blue-collar  married  secondary      no        0     yes   no   \n",
              "...   ...            ...      ...        ...     ...      ...     ...  ...   \n",
              "4516   33       services  married  secondary      no     -333     yes   no   \n",
              "4517   57  self-employed  married   tertiary     yes    -3313     yes  yes   \n",
              "4518   57     technician  married  secondary      no      295      no   no   \n",
              "4519   28    blue-collar  married  secondary      no     1137      no   no   \n",
              "4520   44   entrepreneur   single   tertiary      no     1136     yes  yes   \n",
              "\n",
              "       contact  day month  duration  campaign  pdays  previous poutcome   y  \n",
              "0     cellular   19   oct        79         1     -1         0  unknown  no  \n",
              "1     cellular   11   may       220         1    339         4  failure  no  \n",
              "2     cellular   16   apr       185         1    330         1  failure  no  \n",
              "3      unknown    3   jun       199         4     -1         0  unknown  no  \n",
              "4      unknown    5   may       226         1     -1         0  unknown  no  \n",
              "...        ...  ...   ...       ...       ...    ...       ...      ...  ..  \n",
              "4516  cellular   30   jul       329         5     -1         0  unknown  no  \n",
              "4517   unknown    9   may       153         1     -1         0  unknown  no  \n",
              "4518  cellular   19   aug       151        11     -1         0  unknown  no  \n",
              "4519  cellular    6   feb       129         4    211         3    other  no  \n",
              "4520  cellular    3   apr       345         2    249         7    other  no  \n",
              "\n",
              "[4521 rows x 17 columns]"
            ],
            "text/html": [
              "\n",
              "  <div id=\"df-6548f018-f338-4762-b145-114c8a110779\">\n",
              "    <div class=\"colab-df-container\">\n",
              "      <div>\n",
              "<style scoped>\n",
              "    .dataframe tbody tr th:only-of-type {\n",
              "        vertical-align: middle;\n",
              "    }\n",
              "\n",
              "    .dataframe tbody tr th {\n",
              "        vertical-align: top;\n",
              "    }\n",
              "\n",
              "    .dataframe thead th {\n",
              "        text-align: right;\n",
              "    }\n",
              "</style>\n",
              "<table border=\"1\" class=\"dataframe\">\n",
              "  <thead>\n",
              "    <tr style=\"text-align: right;\">\n",
              "      <th></th>\n",
              "      <th>age</th>\n",
              "      <th>job</th>\n",
              "      <th>marital</th>\n",
              "      <th>education</th>\n",
              "      <th>default</th>\n",
              "      <th>balance</th>\n",
              "      <th>housing</th>\n",
              "      <th>loan</th>\n",
              "      <th>contact</th>\n",
              "      <th>day</th>\n",
              "      <th>month</th>\n",
              "      <th>duration</th>\n",
              "      <th>campaign</th>\n",
              "      <th>pdays</th>\n",
              "      <th>previous</th>\n",
              "      <th>poutcome</th>\n",
              "      <th>y</th>\n",
              "    </tr>\n",
              "  </thead>\n",
              "  <tbody>\n",
              "    <tr>\n",
              "      <th>0</th>\n",
              "      <td>30</td>\n",
              "      <td>unemployed</td>\n",
              "      <td>married</td>\n",
              "      <td>primary</td>\n",
              "      <td>no</td>\n",
              "      <td>1787</td>\n",
              "      <td>no</td>\n",
              "      <td>no</td>\n",
              "      <td>cellular</td>\n",
              "      <td>19</td>\n",
              "      <td>oct</td>\n",
              "      <td>79</td>\n",
              "      <td>1</td>\n",
              "      <td>-1</td>\n",
              "      <td>0</td>\n",
              "      <td>unknown</td>\n",
              "      <td>no</td>\n",
              "    </tr>\n",
              "    <tr>\n",
              "      <th>1</th>\n",
              "      <td>33</td>\n",
              "      <td>services</td>\n",
              "      <td>married</td>\n",
              "      <td>secondary</td>\n",
              "      <td>no</td>\n",
              "      <td>4789</td>\n",
              "      <td>yes</td>\n",
              "      <td>yes</td>\n",
              "      <td>cellular</td>\n",
              "      <td>11</td>\n",
              "      <td>may</td>\n",
              "      <td>220</td>\n",
              "      <td>1</td>\n",
              "      <td>339</td>\n",
              "      <td>4</td>\n",
              "      <td>failure</td>\n",
              "      <td>no</td>\n",
              "    </tr>\n",
              "    <tr>\n",
              "      <th>2</th>\n",
              "      <td>35</td>\n",
              "      <td>management</td>\n",
              "      <td>single</td>\n",
              "      <td>tertiary</td>\n",
              "      <td>no</td>\n",
              "      <td>1350</td>\n",
              "      <td>yes</td>\n",
              "      <td>no</td>\n",
              "      <td>cellular</td>\n",
              "      <td>16</td>\n",
              "      <td>apr</td>\n",
              "      <td>185</td>\n",
              "      <td>1</td>\n",
              "      <td>330</td>\n",
              "      <td>1</td>\n",
              "      <td>failure</td>\n",
              "      <td>no</td>\n",
              "    </tr>\n",
              "    <tr>\n",
              "      <th>3</th>\n",
              "      <td>30</td>\n",
              "      <td>management</td>\n",
              "      <td>married</td>\n",
              "      <td>tertiary</td>\n",
              "      <td>no</td>\n",
              "      <td>1476</td>\n",
              "      <td>yes</td>\n",
              "      <td>yes</td>\n",
              "      <td>unknown</td>\n",
              "      <td>3</td>\n",
              "      <td>jun</td>\n",
              "      <td>199</td>\n",
              "      <td>4</td>\n",
              "      <td>-1</td>\n",
              "      <td>0</td>\n",
              "      <td>unknown</td>\n",
              "      <td>no</td>\n",
              "    </tr>\n",
              "    <tr>\n",
              "      <th>4</th>\n",
              "      <td>59</td>\n",
              "      <td>blue-collar</td>\n",
              "      <td>married</td>\n",
              "      <td>secondary</td>\n",
              "      <td>no</td>\n",
              "      <td>0</td>\n",
              "      <td>yes</td>\n",
              "      <td>no</td>\n",
              "      <td>unknown</td>\n",
              "      <td>5</td>\n",
              "      <td>may</td>\n",
              "      <td>226</td>\n",
              "      <td>1</td>\n",
              "      <td>-1</td>\n",
              "      <td>0</td>\n",
              "      <td>unknown</td>\n",
              "      <td>no</td>\n",
              "    </tr>\n",
              "    <tr>\n",
              "      <th>...</th>\n",
              "      <td>...</td>\n",
              "      <td>...</td>\n",
              "      <td>...</td>\n",
              "      <td>...</td>\n",
              "      <td>...</td>\n",
              "      <td>...</td>\n",
              "      <td>...</td>\n",
              "      <td>...</td>\n",
              "      <td>...</td>\n",
              "      <td>...</td>\n",
              "      <td>...</td>\n",
              "      <td>...</td>\n",
              "      <td>...</td>\n",
              "      <td>...</td>\n",
              "      <td>...</td>\n",
              "      <td>...</td>\n",
              "      <td>...</td>\n",
              "    </tr>\n",
              "    <tr>\n",
              "      <th>4516</th>\n",
              "      <td>33</td>\n",
              "      <td>services</td>\n",
              "      <td>married</td>\n",
              "      <td>secondary</td>\n",
              "      <td>no</td>\n",
              "      <td>-333</td>\n",
              "      <td>yes</td>\n",
              "      <td>no</td>\n",
              "      <td>cellular</td>\n",
              "      <td>30</td>\n",
              "      <td>jul</td>\n",
              "      <td>329</td>\n",
              "      <td>5</td>\n",
              "      <td>-1</td>\n",
              "      <td>0</td>\n",
              "      <td>unknown</td>\n",
              "      <td>no</td>\n",
              "    </tr>\n",
              "    <tr>\n",
              "      <th>4517</th>\n",
              "      <td>57</td>\n",
              "      <td>self-employed</td>\n",
              "      <td>married</td>\n",
              "      <td>tertiary</td>\n",
              "      <td>yes</td>\n",
              "      <td>-3313</td>\n",
              "      <td>yes</td>\n",
              "      <td>yes</td>\n",
              "      <td>unknown</td>\n",
              "      <td>9</td>\n",
              "      <td>may</td>\n",
              "      <td>153</td>\n",
              "      <td>1</td>\n",
              "      <td>-1</td>\n",
              "      <td>0</td>\n",
              "      <td>unknown</td>\n",
              "      <td>no</td>\n",
              "    </tr>\n",
              "    <tr>\n",
              "      <th>4518</th>\n",
              "      <td>57</td>\n",
              "      <td>technician</td>\n",
              "      <td>married</td>\n",
              "      <td>secondary</td>\n",
              "      <td>no</td>\n",
              "      <td>295</td>\n",
              "      <td>no</td>\n",
              "      <td>no</td>\n",
              "      <td>cellular</td>\n",
              "      <td>19</td>\n",
              "      <td>aug</td>\n",
              "      <td>151</td>\n",
              "      <td>11</td>\n",
              "      <td>-1</td>\n",
              "      <td>0</td>\n",
              "      <td>unknown</td>\n",
              "      <td>no</td>\n",
              "    </tr>\n",
              "    <tr>\n",
              "      <th>4519</th>\n",
              "      <td>28</td>\n",
              "      <td>blue-collar</td>\n",
              "      <td>married</td>\n",
              "      <td>secondary</td>\n",
              "      <td>no</td>\n",
              "      <td>1137</td>\n",
              "      <td>no</td>\n",
              "      <td>no</td>\n",
              "      <td>cellular</td>\n",
              "      <td>6</td>\n",
              "      <td>feb</td>\n",
              "      <td>129</td>\n",
              "      <td>4</td>\n",
              "      <td>211</td>\n",
              "      <td>3</td>\n",
              "      <td>other</td>\n",
              "      <td>no</td>\n",
              "    </tr>\n",
              "    <tr>\n",
              "      <th>4520</th>\n",
              "      <td>44</td>\n",
              "      <td>entrepreneur</td>\n",
              "      <td>single</td>\n",
              "      <td>tertiary</td>\n",
              "      <td>no</td>\n",
              "      <td>1136</td>\n",
              "      <td>yes</td>\n",
              "      <td>yes</td>\n",
              "      <td>cellular</td>\n",
              "      <td>3</td>\n",
              "      <td>apr</td>\n",
              "      <td>345</td>\n",
              "      <td>2</td>\n",
              "      <td>249</td>\n",
              "      <td>7</td>\n",
              "      <td>other</td>\n",
              "      <td>no</td>\n",
              "    </tr>\n",
              "  </tbody>\n",
              "</table>\n",
              "<p>4521 rows × 17 columns</p>\n",
              "</div>\n",
              "      <button class=\"colab-df-convert\" onclick=\"convertToInteractive('df-6548f018-f338-4762-b145-114c8a110779')\"\n",
              "              title=\"Convert this dataframe to an interactive table.\"\n",
              "              style=\"display:none;\">\n",
              "        \n",
              "  <svg xmlns=\"http://www.w3.org/2000/svg\" height=\"24px\"viewBox=\"0 0 24 24\"\n",
              "       width=\"24px\">\n",
              "    <path d=\"M0 0h24v24H0V0z\" fill=\"none\"/>\n",
              "    <path d=\"M18.56 5.44l.94 2.06.94-2.06 2.06-.94-2.06-.94-.94-2.06-.94 2.06-2.06.94zm-11 1L8.5 8.5l.94-2.06 2.06-.94-2.06-.94L8.5 2.5l-.94 2.06-2.06.94zm10 10l.94 2.06.94-2.06 2.06-.94-2.06-.94-.94-2.06-.94 2.06-2.06.94z\"/><path d=\"M17.41 7.96l-1.37-1.37c-.4-.4-.92-.59-1.43-.59-.52 0-1.04.2-1.43.59L10.3 9.45l-7.72 7.72c-.78.78-.78 2.05 0 2.83L4 21.41c.39.39.9.59 1.41.59.51 0 1.02-.2 1.41-.59l7.78-7.78 2.81-2.81c.8-.78.8-2.07 0-2.86zM5.41 20L4 18.59l7.72-7.72 1.47 1.35L5.41 20z\"/>\n",
              "  </svg>\n",
              "      </button>\n",
              "      \n",
              "  <style>\n",
              "    .colab-df-container {\n",
              "      display:flex;\n",
              "      flex-wrap:wrap;\n",
              "      gap: 12px;\n",
              "    }\n",
              "\n",
              "    .colab-df-convert {\n",
              "      background-color: #E8F0FE;\n",
              "      border: none;\n",
              "      border-radius: 50%;\n",
              "      cursor: pointer;\n",
              "      display: none;\n",
              "      fill: #1967D2;\n",
              "      height: 32px;\n",
              "      padding: 0 0 0 0;\n",
              "      width: 32px;\n",
              "    }\n",
              "\n",
              "    .colab-df-convert:hover {\n",
              "      background-color: #E2EBFA;\n",
              "      box-shadow: 0px 1px 2px rgba(60, 64, 67, 0.3), 0px 1px 3px 1px rgba(60, 64, 67, 0.15);\n",
              "      fill: #174EA6;\n",
              "    }\n",
              "\n",
              "    [theme=dark] .colab-df-convert {\n",
              "      background-color: #3B4455;\n",
              "      fill: #D2E3FC;\n",
              "    }\n",
              "\n",
              "    [theme=dark] .colab-df-convert:hover {\n",
              "      background-color: #434B5C;\n",
              "      box-shadow: 0px 1px 3px 1px rgba(0, 0, 0, 0.15);\n",
              "      filter: drop-shadow(0px 1px 2px rgba(0, 0, 0, 0.3));\n",
              "      fill: #FFFFFF;\n",
              "    }\n",
              "  </style>\n",
              "\n",
              "      <script>\n",
              "        const buttonEl =\n",
              "          document.querySelector('#df-6548f018-f338-4762-b145-114c8a110779 button.colab-df-convert');\n",
              "        buttonEl.style.display =\n",
              "          google.colab.kernel.accessAllowed ? 'block' : 'none';\n",
              "\n",
              "        async function convertToInteractive(key) {\n",
              "          const element = document.querySelector('#df-6548f018-f338-4762-b145-114c8a110779');\n",
              "          const dataTable =\n",
              "            await google.colab.kernel.invokeFunction('convertToInteractive',\n",
              "                                                     [key], {});\n",
              "          if (!dataTable) return;\n",
              "\n",
              "          const docLinkHtml = 'Like what you see? Visit the ' +\n",
              "            '<a target=\"_blank\" href=https://colab.research.google.com/notebooks/data_table.ipynb>data table notebook</a>'\n",
              "            + ' to learn more about interactive tables.';\n",
              "          element.innerHTML = '';\n",
              "          dataTable['output_type'] = 'display_data';\n",
              "          await google.colab.output.renderOutput(dataTable, element);\n",
              "          const docLink = document.createElement('div');\n",
              "          docLink.innerHTML = docLinkHtml;\n",
              "          element.appendChild(docLink);\n",
              "        }\n",
              "      </script>\n",
              "    </div>\n",
              "  </div>\n",
              "  "
            ]
          },
          "metadata": {},
          "execution_count": 4
        }
      ],
      "source": [
        "bank_data"
      ]
    },
    {
      "cell_type": "code",
      "execution_count": 5,
      "id": "a237305e",
      "metadata": {
        "colab": {
          "base_uri": "https://localhost:8080/"
        },
        "id": "a237305e",
        "outputId": "18da7670-dd82-4484-ccc6-9d68c3549bbf"
      },
      "outputs": [
        {
          "output_type": "stream",
          "name": "stdout",
          "text": [
            "Shape of the dataset: (4521, 17)\n"
          ]
        }
      ],
      "source": [
        "# Exploring the Data\n",
        "# Checking the shape of the data\n",
        "print(\"Shape of the dataset:\", bank_data.shape)"
      ]
    },
    {
      "cell_type": "code",
      "execution_count": 6,
      "id": "40d05573",
      "metadata": {
        "colab": {
          "base_uri": "https://localhost:8080/"
        },
        "id": "40d05573",
        "outputId": "21f07081-074c-4cc4-deac-aec97d00536c"
      },
      "outputs": [
        {
          "output_type": "stream",
          "name": "stdout",
          "text": [
            "Data types:\n",
            "age           int64\n",
            "job          object\n",
            "marital      object\n",
            "education    object\n",
            "default      object\n",
            "balance       int64\n",
            "housing      object\n",
            "loan         object\n",
            "contact      object\n",
            "day           int64\n",
            "month        object\n",
            "duration      int64\n",
            "campaign      int64\n",
            "pdays         int64\n",
            "previous      int64\n",
            "poutcome     object\n",
            "y            object\n",
            "dtype: object\n"
          ]
        }
      ],
      "source": [
        "# Checking the data types\n",
        "print(\"Data types:\")\n",
        "print(bank_data.dtypes)"
      ]
    },
    {
      "cell_type": "code",
      "execution_count": 7,
      "id": "a4d606d5",
      "metadata": {
        "colab": {
          "base_uri": "https://localhost:8080/"
        },
        "id": "a4d606d5",
        "outputId": "eb8b3c66-7e1c-44ce-ea66-7a22a36762d9"
      },
      "outputs": [
        {
          "output_type": "stream",
          "name": "stdout",
          "text": [
            "Head of the dataset:\n",
            "   age          job  marital  education default  balance housing loan  \\\n",
            "0   30   unemployed  married    primary      no     1787      no   no   \n",
            "1   33     services  married  secondary      no     4789     yes  yes   \n",
            "2   35   management   single   tertiary      no     1350     yes   no   \n",
            "3   30   management  married   tertiary      no     1476     yes  yes   \n",
            "4   59  blue-collar  married  secondary      no        0     yes   no   \n",
            "\n",
            "    contact  day month  duration  campaign  pdays  previous poutcome   y  \n",
            "0  cellular   19   oct        79         1     -1         0  unknown  no  \n",
            "1  cellular   11   may       220         1    339         4  failure  no  \n",
            "2  cellular   16   apr       185         1    330         1  failure  no  \n",
            "3   unknown    3   jun       199         4     -1         0  unknown  no  \n",
            "4   unknown    5   may       226         1     -1         0  unknown  no  \n"
          ]
        }
      ],
      "source": [
        "# Checking the head of the dataset\n",
        "print(\"Head of the dataset:\")\n",
        "print(bank_data.head())"
      ]
    },
    {
      "cell_type": "code",
      "execution_count": 8,
      "id": "fd5e8ecd",
      "metadata": {
        "colab": {
          "base_uri": "https://localhost:8080/"
        },
        "id": "fd5e8ecd",
        "outputId": "4e0959ee-bdec-4a28-9254-81cc512666fb"
      },
      "outputs": [
        {
          "output_type": "stream",
          "name": "stdout",
          "text": [
            "Summary Statistics:\n",
            "               age       balance          day     duration     campaign  \\\n",
            "count  4521.000000   4521.000000  4521.000000  4521.000000  4521.000000   \n",
            "mean     41.170095   1422.657819    15.915284   263.961292     2.793630   \n",
            "std      10.576211   3009.638142     8.247667   259.856633     3.109807   \n",
            "min      19.000000  -3313.000000     1.000000     4.000000     1.000000   \n",
            "25%      33.000000     69.000000     9.000000   104.000000     1.000000   \n",
            "50%      39.000000    444.000000    16.000000   185.000000     2.000000   \n",
            "75%      49.000000   1480.000000    21.000000   329.000000     3.000000   \n",
            "max      87.000000  71188.000000    31.000000  3025.000000    50.000000   \n",
            "\n",
            "             pdays     previous  \n",
            "count  4521.000000  4521.000000  \n",
            "mean     39.766645     0.542579  \n",
            "std     100.121124     1.693562  \n",
            "min      -1.000000     0.000000  \n",
            "25%      -1.000000     0.000000  \n",
            "50%      -1.000000     0.000000  \n",
            "75%      -1.000000     0.000000  \n",
            "max     871.000000    25.000000  \n"
          ]
        }
      ],
      "source": [
        "# Checking the summary statistics of the dataset\n",
        "print(\"Summary Statistics:\")\n",
        "print(bank_data.describe())"
      ]
    },
    {
      "cell_type": "code",
      "execution_count": 9,
      "id": "97f81829",
      "metadata": {
        "colab": {
          "base_uri": "https://localhost:8080/",
          "height": 449
        },
        "id": "97f81829",
        "outputId": "2650352b-ce7b-45b2-f7d3-2fd251607776"
      },
      "outputs": [
        {
          "output_type": "display_data",
          "data": {
            "text/plain": [
              "<Figure size 640x480 with 1 Axes>"
            ],
            "image/png": "[encoded data removed]"
          },
          "metadata": {}
        }
      ],
      "source": [
        "# Data Visualization\n",
        "# Distribution of the output label: y\n",
        "sns.countplot(x=\"y\", data=bank_data)\n",
        "plt.show()"
      ]
    },
    {
      "cell_type": "code",
      "execution_count": 10,
      "id": "10ec948d",
      "metadata": {
        "colab": {
          "base_uri": "https://localhost:8080/",
          "height": 449
        },
        "id": "10ec948d",
        "outputId": "925b96cd-679d-47aa-ca35-21435af85f3e"
      },
      "outputs": [
        {
          "output_type": "display_data",
          "data": {
            "text/plain": [
              "<Figure size 640x480 with 1 Axes>"
            ],
            "image/png": "[encoded data removed]"
          },
          "metadata": {}
        }
      ],
      "source": [
        "# Distribution of the input features\n",
        "# Job\n",
        "sns.countplot(x=\"job\", data=bank_data)\n",
        "plt.show()"
      ]
    },
    {
      "cell_type": "code",
      "execution_count": 11,
      "id": "70822874",
      "metadata": {
        "colab": {
          "base_uri": "https://localhost:8080/",
          "height": 449
        },
        "id": "70822874",
        "outputId": "6c6c6f33-4788-476c-c54c-a3a87257b21d"
      },
      "outputs": [
        {
          "output_type": "display_data",
          "data": {
            "text/plain": [
              "<Figure size 640x480 with 1 Axes>"
            ],
            "image/png": "[encoded data removed]"
          },
          "metadata": {}
        }
      ],
      "source": [
        "# Marital\n",
        "sns.countplot(x=\"marital\", data=bank_data)\n",
        "plt.show()"
      ]
    },
    {
      "cell_type": "code",
      "execution_count": 12,
      "id": "ffb178d2",
      "metadata": {
        "colab": {
          "base_uri": "https://localhost:8080/",
          "height": 646
        },
        "id": "ffb178d2",
        "outputId": "9c458430-df24-4145-a0ac-091a9f17488c"
      },
      "outputs": [
        {
          "output_type": "stream",
          "name": "stderr",
          "text": [
            "<ipython-input-12-1a0cfdcd38e4>:2: UserWarning: \n",
            "\n",
            "`distplot` is a deprecated function and will be removed in seaborn v0.14.0.\n",
            "\n",
            "Please adapt your code to use either `displot` (a figure-level function with\n",
            "similar flexibility) or `histplot` (an axes-level function for histograms).\n",
            "\n",
            "For a guide to updating your code to use the new functions, please see\n",
            "https://gist.github.com/mwaskom/de44147ed2974457ad6372750bbe5751\n",
            "\n",
            "  sns.distplot(bank_data[\"age\"], kde=False)\n"
          ]
        },
        {
          "output_type": "display_data",
          "data": {
            "text/plain": [
              "<Figure size 640x480 with 1 Axes>"
            ],
            "image/png": "[encoded data removed]"
          },
          "metadata": {}
        }
      ],
      "source": [
        "# Age\n",
        "sns.distplot(bank_data[\"age\"], kde=False)\n",
        "plt.show()"
      ]
    },
    {
      "cell_type": "code",
      "execution_count": 13,
      "id": "6c2e5551",
      "metadata": {
        "colab": {
          "base_uri": "https://localhost:8080/",
          "height": 449
        },
        "id": "6c2e5551",
        "outputId": "bef537af-cfd9-4439-d47a-76e3a183d68c"
      },
      "outputs": [
        {
          "output_type": "display_data",
          "data": {
            "text/plain": [
              "<Figure size 640x480 with 1 Axes>"
            ],
            "image/png": "[encoded data removed]"
          },
          "metadata": {}
        }
      ],
      "source": [
        "# Education\n",
        "sns.countplot(x=\"education\", data=bank_data)\n",
        "plt.show()"
      ]
    },
    {
      "cell_type": "code",
      "execution_count": 14,
      "id": "33b9421d",
      "metadata": {
        "colab": {
          "base_uri": "https://localhost:8080/"
        },
        "id": "33b9421d",
        "outputId": "f8b421f8-7795-4785-9db5-a7bcef066d5e"
      },
      "outputs": [
        {
          "output_type": "stream",
          "name": "stdout",
          "text": [
            "Count of output labels:\n",
            "no     4000\n",
            "yes     521\n",
            "Name: y, dtype: int64\n"
          ]
        }
      ],
      "source": [
        "# Data Preprocessing\n",
        "# Check the proportion of output labels\n",
        "# Count of output labels\n",
        "print(\"Count of output labels:\")\n",
        "print(bank_data['y'].value_counts())"
      ]
    },
    {
      "cell_type": "code",
      "execution_count": 15,
      "id": "fa779e07",
      "metadata": {
        "colab": {
          "base_uri": "https://localhost:8080/"
        },
        "id": "fa779e07",
        "outputId": "82b8f2b5-79c7-408c-aec4-7c9ff41644e9"
      },
      "outputs": [
        {
          "output_type": "stream",
          "name": "stdout",
          "text": [
            "Proportion of output labels:\n",
            "no     0.88476\n",
            "yes    0.11524\n",
            "Name: y, dtype: float64\n"
          ]
        }
      ],
      "source": [
        "# Proportion of output labels\n",
        "print(\"Proportion of output labels:\")\n",
        "print(bank_data['y'].value_counts()/len(bank_data['y']))"
      ]
    },
    {
      "cell_type": "code",
      "execution_count": 16,
      "id": "e8fc72cd",
      "metadata": {
        "id": "e8fc72cd"
      },
      "outputs": [],
      "source": [
        "# Normalizing the data\n",
        "# Normalizing the age column\n",
        "bank_data['age'] = (bank_data['age'] - bank_data['age'].mean()) / bank_data['age'].std()\n",
        "# Normalizing the balance column\n",
        "bank_data['balance'] = (bank_data['balance'] - bank_data['balance'].mean()) / bank_data['balance'].std()\n",
        "\n",
        "# Normalizing the duration column\n",
        "bank_data['duration'] = (bank_data['duration'] - bank_data['duration'].mean()) / bank_data['duration'].std()\n",
        "\n",
        "# Normalizing the campaign column\n",
        "bank_data['campaign'] = (bank_data['campaign'] - bank_data['campaign'].mean()) / bank_data['campaign'].std()\n",
        "\n",
        "# Normalizing the pdays column\n",
        "bank_data['pdays'] = (bank_data['pdays'] - bank_data['pdays'].mean()) / bank_data['pdays'].std()\n",
        "\n",
        "# Normalizing the previous column\n",
        "bank_data['previous'] = (bank_data['previous'] - bank_data['previous'].mean()) / bank_data['previous'].std()"
      ]
    },
    {
      "cell_type": "markdown",
      "id": "01cbae45",
      "metadata": {
        "id": "01cbae45"
      },
      "source": [
        "Task 2"
      ]
    },
    {
      "cell_type": "code",
      "execution_count": 17,
      "id": "d5eb5806",
      "metadata": {
        "id": "d5eb5806"
      },
      "outputs": [],
      "source": [
        "# Building the Model\n",
        "# Importing Libraries\n",
        "import tensorflow as tf\n",
        "from tensorflow.keras.models import Sequential\n",
        "from tensorflow.keras.layers import Dense"
      ]
    },
    {
      "cell_type": "code",
      "execution_count": 18,
      "id": "7693c775",
      "metadata": {
        "id": "7693c775"
      },
      "outputs": [],
      "source": [
        "# Setting the random seed\n",
        "np.random.seed(42)\n",
        "tf.random.set_seed(42)"
      ]
    },
    {
      "cell_type": "code",
      "source": [
        "# Building the model\n",
        "model = Sequential([\n",
        "    Dense(4, activation=\"relu\", input_shape=(14,)),\n",
        "    Dense(4, activation=\"relu\"),\n",
        "    Dense(4, activation=\"relu\"),\n",
        "    Dense(1, activation=\"sigmoid\")\n",
        "])"
      ],
      "metadata": {
        "id": "JMnES8DPP_me"
      },
      "id": "JMnES8DPP_me",
      "execution_count": 19,
      "outputs": []
    },
    {
      "cell_type": "code",
      "source": [
        "# Compiling the model\n",
        "model.compile(loss=\"binary_crossentropy\",\n",
        "              optimizer=\"adam\",\n",
        "              metrics=[\"accuracy\"])\n"
      ],
      "metadata": {
        "id": "Mtzc0XWdQFBm"
      },
      "id": "Mtzc0XWdQFBm",
      "execution_count": 20,
      "outputs": []
    },
    {
      "cell_type": "code",
      "source": [
        "# Training the model\n",
        "df['score']=df['score'].astype(float)\n",
        "\n",
        "# Segregating the features and labels\n",
        "X = data.drop(\"y\", axis=1)\n",
        "\n",
        "X = np.asarray(X).astype(np.float32)\n",
        "y = data[\"y\"]\n",
        "\n",
        "model.fit(bank_data.drop(\"y\", axis=1),\n",
        "          bank_data[\"y\"],\n",
        "          epochs=400,\n",
        "          batch_size=32)"
      ],
      "metadata": {
        "colab": {
          "base_uri": "https://localhost:8080/",
          "height": 134
        },
        "id": "uy-4QXbIQLOo",
        "outputId": "704bdb1b-e792-4078-eab2-49fe99a9b4a4"
      },
      "id": "uy-4QXbIQLOo",
      "execution_count": 38,
      "outputs": [
        {
          "output_type": "error",
          "ename": "SyntaxError",
          "evalue": "ignored",
          "traceback": [
            "\u001b[0;36m  File \u001b[0;32m\"<ipython-input-38-6ac92abfcd9b>\"\u001b[0;36m, line \u001b[0;32m3\u001b[0m\n\u001b[0;31m    bank_data.drop(\"y\", axis=1) = bank_data.drop(\"y\", axis=1).astype(float)\u001b[0m\n\u001b[0m    ^\u001b[0m\n\u001b[0;31mSyntaxError\u001b[0m\u001b[0;31m:\u001b[0m cannot assign to function call\n"
          ]
        }
      ]
    },
    {
      "cell_type": "code",
      "source": [],
      "metadata": {
        "id": "FyLqdDJdXx8K"
      },
      "id": "FyLqdDJdXx8K",
      "execution_count": null,
      "outputs": []
    },
    {
      "cell_type": "code",
      "source": [
        "# Evaluating the model\n",
        "model.evaluate(bank_data.drop(\"y\", axis=1), bank_data[\"y\"])"
      ],
      "metadata": {
        "id": "n9-J6iWDQRfu"
      },
      "id": "n9-J6iWDQRfu",
      "execution_count": null,
      "outputs": []
    },
    {
      "cell_type": "markdown",
      "source": [
        "Task 3"
      ],
      "metadata": {
        "id": "7HH6b5aCQ40c"
      },
      "id": "7HH6b5aCQ40c"
    },
    {
      "cell_type": "code",
      "source": [
        "# Splitting the data into train and test sets\n",
        "from sklearn.model_selection import train_test_split\n"
      ],
      "metadata": {
        "id": "Go2qauruQ7gr"
      },
      "id": "Go2qauruQ7gr",
      "execution_count": 22,
      "outputs": []
    },
    {
      "cell_type": "code",
      "source": [
        "# Segregating the features and labels\n",
        "X = bank_data.drop(\"y\", axis=1)\n",
        "print(X)\n",
        "#X = np.asarray(X).astype(np.float32)\n",
        "y = bank_data[\"y\"]\n",
        "\n",
        "# y = np.asarray(y).astype(np.float32)"
      ],
      "metadata": {
        "colab": {
          "base_uri": "https://localhost:8080/"
        },
        "id": "C_zi01-KRBhP",
        "outputId": "98f199df-ba4d-49d2-cd22-d42ed396ba74"
      },
      "id": "C_zi01-KRBhP",
      "execution_count": 37,
      "outputs": [
        {
          "output_type": "stream",
          "name": "stdout",
          "text": [
            "           age            job  marital  education default   balance housing  \\\n",
            "0    -1.056153     unemployed  married    primary      no  0.121058      no   \n",
            "1    -0.772497       services  married  secondary      no  1.118521     yes   \n",
            "2    -0.583394     management   single   tertiary      no -0.024142     yes   \n",
            "3    -1.056153     management  married   tertiary      no  0.017724     yes   \n",
            "4     1.685850    blue-collar  married  secondary      no -0.472701     yes   \n",
            "...        ...            ...      ...        ...     ...       ...     ...   \n",
            "4516 -0.772497       services  married  secondary      no -0.583345     yes   \n",
            "4517  1.496746  self-employed  married   tertiary     yes -1.573497     yes   \n",
            "4518  1.496746     technician  married  secondary      no -0.374682      no   \n",
            "4519 -1.245256    blue-collar  married  secondary      no -0.094914      no   \n",
            "4520  0.267573   entrepreneur   single   tertiary      no -0.095247     yes   \n",
            "\n",
            "     loan   contact  day month  duration  campaign     pdays  previous  \\\n",
            "0      no  cellular   19   oct -0.711782 -0.576766 -0.407173 -0.320377   \n",
            "1     yes  cellular   11   may -0.169175 -0.576766  2.988713  2.041508   \n",
            "2      no  cellular   16   apr -0.303865 -0.576766  2.898822  0.270094   \n",
            "3     yes   unknown    3   jun -0.249989  0.387925 -0.407173 -0.320377   \n",
            "4      no   unknown    5   may -0.146086 -0.576766 -0.407173 -0.320377   \n",
            "...   ...       ...  ...   ...       ...       ...       ...       ...   \n",
            "4516   no  cellular   30   jul  0.250287  0.709488 -0.407173 -0.320377   \n",
            "4517  yes   unknown    9   may -0.427010 -0.576766 -0.407173 -0.320377   \n",
            "4518   no  cellular   19   aug -0.434706  2.638868 -0.407173 -0.320377   \n",
            "4519   no  cellular    6   feb -0.519368  0.387925  1.710262  1.451037   \n",
            "4520  yes  cellular    3   apr  0.311859 -0.255202  2.089802  3.812922   \n",
            "\n",
            "     poutcome  \n",
            "0     unknown  \n",
            "1     failure  \n",
            "2     failure  \n",
            "3     unknown  \n",
            "4     unknown  \n",
            "...       ...  \n",
            "4516  unknown  \n",
            "4517  unknown  \n",
            "4518  unknown  \n",
            "4519    other  \n",
            "4520    other  \n",
            "\n",
            "[4521 rows x 16 columns]\n"
          ]
        }
      ]
    },
    {
      "cell_type": "code",
      "source": [
        "# Splitting the data into train and test sets\n",
        "X_train, X_test, y_train, y_test = train_test_split(X, y, test_size=0.2, random_state=42)"
      ],
      "metadata": {
        "id": "4-6XXntjRFNa"
      },
      "id": "4-6XXntjRFNa",
      "execution_count": 24,
      "outputs": []
    },
    {
      "cell_type": "code",
      "source": [
        "# Building the model\n",
        "# Setting the random seed\n",
        "np.random.seed(42)\n",
        "tf.random.set_seed(42)"
      ],
      "metadata": {
        "id": "ABkYOtlBRI4A"
      },
      "id": "ABkYOtlBRI4A",
      "execution_count": 25,
      "outputs": []
    },
    {
      "cell_type": "code",
      "source": [
        "# Building the model\n",
        "model = Sequential([\n",
        "    Dense(4, activation=\"relu\", input_shape=(14,)),\n",
        "    Dense(4, activation=\"relu\"),\n",
        "    Dense(1, activation=\"sigmoid\")\n",
        "])"
      ],
      "metadata": {
        "id": "7JSy0vlCRPDB"
      },
      "id": "7JSy0vlCRPDB",
      "execution_count": 26,
      "outputs": []
    },
    {
      "cell_type": "code",
      "source": [
        "# Compiling the model\n",
        "model.compile(loss=\"binary_crossentropy\",\n",
        "              optimizer=\"adam\",\n",
        "              metrics=[\"accuracy\"])\n"
      ],
      "metadata": {
        "id": "ccdylDiORSaG"
      },
      "id": "ccdylDiORSaG",
      "execution_count": 27,
      "outputs": []
    },
    {
      "cell_type": "code",
      "source": [
        "# Setting up early stopping\n",
        "from tensorflow.keras.callbacks import EarlyStopping\n",
        "early_stopping = EarlyStopping(patience=2)"
      ],
      "metadata": {
        "id": "72ZNO3EARXSY"
      },
      "id": "72ZNO3EARXSY",
      "execution_count": 28,
      "outputs": []
    },
    {
      "cell_type": "code",
      "source": [
        "# Training the model\n",
        "model.fit(X_train,\n",
        "          y_train,\n",
        "          epochs=20,\n",
        "          batch_size=32,\n",
        "          validation_data=(X_test, y_test),\n",
        "          callbacks=[early_stopping])"
      ],
      "metadata": {
        "colab": {
          "base_uri": "https://localhost:8080/",
          "height": 409
        },
        "id": "oginFIF1RZ5N",
        "outputId": "cb85c2b7-883c-40c8-f0ac-5bdd6897d5d1"
      },
      "id": "oginFIF1RZ5N",
      "execution_count": 29,
      "outputs": [
        {
          "output_type": "error",
          "ename": "ValueError",
          "evalue": "ignored",
          "traceback": [
            "\u001b[0;31m---------------------------------------------------------------------------\u001b[0m",
            "\u001b[0;31mValueError\u001b[0m                                Traceback (most recent call last)",
            "\u001b[0;32m<ipython-input-29-adc74e2c3d01>\u001b[0m in \u001b[0;36m<cell line: 2>\u001b[0;34m()\u001b[0m\n\u001b[1;32m      1\u001b[0m \u001b[0;31m# Training the model\u001b[0m\u001b[0;34m\u001b[0m\u001b[0;34m\u001b[0m\u001b[0m\n\u001b[0;32m----> 2\u001b[0;31m model.fit(X_train,\n\u001b[0m\u001b[1;32m      3\u001b[0m           \u001b[0my_train\u001b[0m\u001b[0;34m,\u001b[0m\u001b[0;34m\u001b[0m\u001b[0;34m\u001b[0m\u001b[0m\n\u001b[1;32m      4\u001b[0m           \u001b[0mepochs\u001b[0m\u001b[0;34m=\u001b[0m\u001b[0;36m20\u001b[0m\u001b[0;34m,\u001b[0m\u001b[0;34m\u001b[0m\u001b[0;34m\u001b[0m\u001b[0m\n\u001b[1;32m      5\u001b[0m           \u001b[0mbatch_size\u001b[0m\u001b[0;34m=\u001b[0m\u001b[0;36m32\u001b[0m\u001b[0;34m,\u001b[0m\u001b[0;34m\u001b[0m\u001b[0;34m\u001b[0m\u001b[0m\n",
            "\u001b[0;32m/usr/local/lib/python3.9/dist-packages/keras/utils/traceback_utils.py\u001b[0m in \u001b[0;36merror_handler\u001b[0;34m(*args, **kwargs)\u001b[0m\n\u001b[1;32m     68\u001b[0m             \u001b[0;31m# To get the full stack trace, call:\u001b[0m\u001b[0;34m\u001b[0m\u001b[0;34m\u001b[0m\u001b[0m\n\u001b[1;32m     69\u001b[0m             \u001b[0;31m# `tf.debugging.disable_traceback_filtering()`\u001b[0m\u001b[0;34m\u001b[0m\u001b[0;34m\u001b[0m\u001b[0m\n\u001b[0;32m---> 70\u001b[0;31m             \u001b[0;32mraise\u001b[0m \u001b[0me\u001b[0m\u001b[0;34m.\u001b[0m\u001b[0mwith_traceback\u001b[0m\u001b[0;34m(\u001b[0m\u001b[0mfiltered_tb\u001b[0m\u001b[0;34m)\u001b[0m \u001b[0;32mfrom\u001b[0m \u001b[0;32mNone\u001b[0m\u001b[0;34m\u001b[0m\u001b[0;34m\u001b[0m\u001b[0m\n\u001b[0m\u001b[1;32m     71\u001b[0m         \u001b[0;32mfinally\u001b[0m\u001b[0;34m:\u001b[0m\u001b[0;34m\u001b[0m\u001b[0;34m\u001b[0m\u001b[0m\n\u001b[1;32m     72\u001b[0m             \u001b[0;32mdel\u001b[0m \u001b[0mfiltered_tb\u001b[0m\u001b[0;34m\u001b[0m\u001b[0;34m\u001b[0m\u001b[0m\n",
            "\u001b[0;32m/usr/local/lib/python3.9/dist-packages/tensorflow/python/framework/constant_op.py\u001b[0m in \u001b[0;36mconvert_to_eager_tensor\u001b[0;34m(value, ctx, dtype)\u001b[0m\n\u001b[1;32m    101\u001b[0m       \u001b[0mdtype\u001b[0m \u001b[0;34m=\u001b[0m \u001b[0mdtypes\u001b[0m\u001b[0;34m.\u001b[0m\u001b[0mas_dtype\u001b[0m\u001b[0;34m(\u001b[0m\u001b[0mdtype\u001b[0m\u001b[0;34m)\u001b[0m\u001b[0;34m.\u001b[0m\u001b[0mas_datatype_enum\u001b[0m\u001b[0;34m\u001b[0m\u001b[0;34m\u001b[0m\u001b[0m\n\u001b[1;32m    102\u001b[0m   \u001b[0mctx\u001b[0m\u001b[0;34m.\u001b[0m\u001b[0mensure_initialized\u001b[0m\u001b[0;34m(\u001b[0m\u001b[0;34m)\u001b[0m\u001b[0;34m\u001b[0m\u001b[0;34m\u001b[0m\u001b[0m\n\u001b[0;32m--> 103\u001b[0;31m   \u001b[0;32mreturn\u001b[0m \u001b[0mops\u001b[0m\u001b[0;34m.\u001b[0m\u001b[0mEagerTensor\u001b[0m\u001b[0;34m(\u001b[0m\u001b[0mvalue\u001b[0m\u001b[0;34m,\u001b[0m \u001b[0mctx\u001b[0m\u001b[0;34m.\u001b[0m\u001b[0mdevice_name\u001b[0m\u001b[0;34m,\u001b[0m \u001b[0mdtype\u001b[0m\u001b[0;34m)\u001b[0m\u001b[0;34m\u001b[0m\u001b[0;34m\u001b[0m\u001b[0m\n\u001b[0m\u001b[1;32m    104\u001b[0m \u001b[0;34m\u001b[0m\u001b[0m\n\u001b[1;32m    105\u001b[0m \u001b[0;34m\u001b[0m\u001b[0m\n",
            "\u001b[0;31mValueError\u001b[0m: Failed to convert a NumPy array to a Tensor (Unsupported object type float)."
          ]
        }
      ]
    },
    {
      "cell_type": "code",
      "source": [
        "# Evaluating the model\n",
        "model.evaluate(X_test, y_test)"
      ],
      "metadata": {
        "id": "sL8WqI1URhge"
      },
      "id": "sL8WqI1URhge",
      "execution_count": null,
      "outputs": []
    },
    {
      "cell_type": "code",
      "source": [
        "# Saving the model\n",
        "model.save(\"model.h5\")"
      ],
      "metadata": {
        "id": "r47UPUomRkX1"
      },
      "id": "r47UPUomRkX1",
      "execution_count": null,
      "outputs": []
    },
    {
      "cell_type": "markdown",
      "source": [
        "Task 4"
      ],
      "metadata": {
        "id": "vZ3_B0l7RptA"
      },
      "id": "vZ3_B0l7RptA"
    },
    {
      "cell_type": "code",
      "source": [
        "# Building the Model\n",
        "# Importing Libraries\n",
        "import tensorflow as tf\n",
        "from tensorflow.keras.models import Sequential\n",
        "from tensorflow.keras.layers import Dense"
      ],
      "metadata": {
        "id": "tox5MuFgRwd9"
      },
      "id": "tox5MuFgRwd9",
      "execution_count": 30,
      "outputs": []
    },
    {
      "cell_type": "code",
      "source": [
        "# Setting the random seed\n",
        "np.random.seed(42)\n",
        "tf.random.set_seed(42)"
      ],
      "metadata": {
        "id": "ksp-FGC8R2q6"
      },
      "id": "ksp-FGC8R2q6",
      "execution_count": 31,
      "outputs": []
    },
    {
      "cell_type": "code",
      "source": [
        "# Building the model\n",
        "model = Sequential([\n",
        "    Dense(4, activation=\"relu\", input_shape=(14,)),\n",
        "    Dense(4, activation=\"relu\"),\n",
        "    Dense(1, activation=\"sigmoid\")\n",
        "])\n"
      ],
      "metadata": {
        "id": "-ZWFi9nmR7_g"
      },
      "id": "-ZWFi9nmR7_g",
      "execution_count": 32,
      "outputs": []
    },
    {
      "cell_type": "code",
      "source": [
        "# Compiling the model\n",
        "model.compile(loss=\"binary_crossentropy\",\n",
        "              optimizer=\"adam\",\n",
        "              metrics=[\"accuracy\"])\n"
      ],
      "metadata": {
        "id": "7W7nolOIR-5O"
      },
      "id": "7W7nolOIR-5O",
      "execution_count": 33,
      "outputs": []
    },
    {
      "cell_type": "code",
      "source": [
        "# Training the model\n",
        "model.fit(X_train,\n",
        "          y_train,\n",
        "          epochs=20,\n",
        "          batch_size=32,\n",
        "          validation_data=(X_test, y_test),\n",
        "          callbacks=[early_stopping])\n"
      ],
      "metadata": {
        "colab": {
          "base_uri": "https://localhost:8080/",
          "height": 409
        },
        "id": "TTe9Te9RSSie",
        "outputId": "cff8e301-d4f2-414c-e014-968c18377cf0"
      },
      "id": "TTe9Te9RSSie",
      "execution_count": 34,
      "outputs": [
        {
          "output_type": "error",
          "ename": "ValueError",
          "evalue": "ignored",
          "traceback": [
            "\u001b[0;31m---------------------------------------------------------------------------\u001b[0m",
            "\u001b[0;31mValueError\u001b[0m                                Traceback (most recent call last)",
            "\u001b[0;32m<ipython-input-34-adc74e2c3d01>\u001b[0m in \u001b[0;36m<cell line: 2>\u001b[0;34m()\u001b[0m\n\u001b[1;32m      1\u001b[0m \u001b[0;31m# Training the model\u001b[0m\u001b[0;34m\u001b[0m\u001b[0;34m\u001b[0m\u001b[0m\n\u001b[0;32m----> 2\u001b[0;31m model.fit(X_train,\n\u001b[0m\u001b[1;32m      3\u001b[0m           \u001b[0my_train\u001b[0m\u001b[0;34m,\u001b[0m\u001b[0;34m\u001b[0m\u001b[0;34m\u001b[0m\u001b[0m\n\u001b[1;32m      4\u001b[0m           \u001b[0mepochs\u001b[0m\u001b[0;34m=\u001b[0m\u001b[0;36m20\u001b[0m\u001b[0;34m,\u001b[0m\u001b[0;34m\u001b[0m\u001b[0;34m\u001b[0m\u001b[0m\n\u001b[1;32m      5\u001b[0m           \u001b[0mbatch_size\u001b[0m\u001b[0;34m=\u001b[0m\u001b[0;36m32\u001b[0m\u001b[0;34m,\u001b[0m\u001b[0;34m\u001b[0m\u001b[0;34m\u001b[0m\u001b[0m\n",
            "\u001b[0;32m/usr/local/lib/python3.9/dist-packages/keras/utils/traceback_utils.py\u001b[0m in \u001b[0;36merror_handler\u001b[0;34m(*args, **kwargs)\u001b[0m\n\u001b[1;32m     68\u001b[0m             \u001b[0;31m# To get the full stack trace, call:\u001b[0m\u001b[0;34m\u001b[0m\u001b[0;34m\u001b[0m\u001b[0m\n\u001b[1;32m     69\u001b[0m             \u001b[0;31m# `tf.debugging.disable_traceback_filtering()`\u001b[0m\u001b[0;34m\u001b[0m\u001b[0;34m\u001b[0m\u001b[0m\n\u001b[0;32m---> 70\u001b[0;31m             \u001b[0;32mraise\u001b[0m \u001b[0me\u001b[0m\u001b[0;34m.\u001b[0m\u001b[0mwith_traceback\u001b[0m\u001b[0;34m(\u001b[0m\u001b[0mfiltered_tb\u001b[0m\u001b[0;34m)\u001b[0m \u001b[0;32mfrom\u001b[0m \u001b[0;32mNone\u001b[0m\u001b[0;34m\u001b[0m\u001b[0;34m\u001b[0m\u001b[0m\n\u001b[0m\u001b[1;32m     71\u001b[0m         \u001b[0;32mfinally\u001b[0m\u001b[0;34m:\u001b[0m\u001b[0;34m\u001b[0m\u001b[0;34m\u001b[0m\u001b[0m\n\u001b[1;32m     72\u001b[0m             \u001b[0;32mdel\u001b[0m \u001b[0mfiltered_tb\u001b[0m\u001b[0;34m\u001b[0m\u001b[0;34m\u001b[0m\u001b[0m\n",
            "\u001b[0;32m/usr/local/lib/python3.9/dist-packages/tensorflow/python/framework/constant_op.py\u001b[0m in \u001b[0;36mconvert_to_eager_tensor\u001b[0;34m(value, ctx, dtype)\u001b[0m\n\u001b[1;32m    101\u001b[0m       \u001b[0mdtype\u001b[0m \u001b[0;34m=\u001b[0m \u001b[0mdtypes\u001b[0m\u001b[0;34m.\u001b[0m\u001b[0mas_dtype\u001b[0m\u001b[0;34m(\u001b[0m\u001b[0mdtype\u001b[0m\u001b[0;34m)\u001b[0m\u001b[0;34m.\u001b[0m\u001b[0mas_datatype_enum\u001b[0m\u001b[0;34m\u001b[0m\u001b[0;34m\u001b[0m\u001b[0m\n\u001b[1;32m    102\u001b[0m   \u001b[0mctx\u001b[0m\u001b[0;34m.\u001b[0m\u001b[0mensure_initialized\u001b[0m\u001b[0;34m(\u001b[0m\u001b[0;34m)\u001b[0m\u001b[0;34m\u001b[0m\u001b[0;34m\u001b[0m\u001b[0m\n\u001b[0;32m--> 103\u001b[0;31m   \u001b[0;32mreturn\u001b[0m \u001b[0mops\u001b[0m\u001b[0;34m.\u001b[0m\u001b[0mEagerTensor\u001b[0m\u001b[0;34m(\u001b[0m\u001b[0mvalue\u001b[0m\u001b[0;34m,\u001b[0m \u001b[0mctx\u001b[0m\u001b[0;34m.\u001b[0m\u001b[0mdevice_name\u001b[0m\u001b[0;34m,\u001b[0m \u001b[0mdtype\u001b[0m\u001b[0;34m)\u001b[0m\u001b[0;34m\u001b[0m\u001b[0;34m\u001b[0m\u001b[0m\n\u001b[0m\u001b[1;32m    104\u001b[0m \u001b[0;34m\u001b[0m\u001b[0m\n\u001b[1;32m    105\u001b[0m \u001b[0;34m\u001b[0m\u001b[0m\n",
            "\u001b[0;31mValueError\u001b[0m: Failed to convert a NumPy array to a Tensor (Unsupported object type float)."
          ]
        }
      ]
    },
    {
      "cell_type": "code",
      "source": [
        "# Evaluating the model\n",
        "model.evaluate(X_test, y_test)"
      ],
      "metadata": {
        "id": "hW4rg_HySVed"
      },
      "id": "hW4rg_HySVed",
      "execution_count": null,
      "outputs": []
    },
    {
      "cell_type": "code",
      "source": [
        "# Saving the model\n",
        "model.save(\"model.h5\")"
      ],
      "metadata": {
        "id": "jeoUrKyGSZ80"
      },
      "id": "jeoUrKyGSZ80",
      "execution_count": null,
      "outputs": []
    },
    {
      "cell_type": "code",
      "source": [
        "# Feature importance and reduction\n",
        "# Iteratively removing one feature at a time\n",
        "# Removing the least important feature\n",
        "X = bank_data.drop([\"y\", \"balance\"], axis=1)"
      ],
      "metadata": {
        "id": "Hi4P8gRBSbgk"
      },
      "id": "Hi4P8gRBSbgk",
      "execution_count": null,
      "outputs": []
    },
    {
      "cell_type": "code",
      "source": [
        "# Splitting the data into train and test sets\n",
        "X_train, X_test, y_train, y_test = train_test_split(X, y, test_size=0.2, random_state=42)\n"
      ],
      "metadata": {
        "id": "WGeLDianSjt2"
      },
      "id": "WGeLDianSjt2",
      "execution_count": null,
      "outputs": []
    },
    {
      "cell_type": "code",
      "source": [
        "# Building the model\n",
        "# Setting the random seed\n",
        "np.random.seed(42)\n",
        "tf.random.set_seed(42)"
      ],
      "metadata": {
        "id": "7VaG7abLSnh8"
      },
      "id": "7VaG7abLSnh8",
      "execution_count": null,
      "outputs": []
    },
    {
      "cell_type": "code",
      "source": [],
      "metadata": {
        "id": "GVj2Rg67Spmn"
      },
      "id": "GVj2Rg67Spmn",
      "execution_count": null,
      "outputs": []
    }
  ],
  "metadata": {
    "kernelspec": {
      "display_name": "Python 3 (ipykernel)",
      "language": "python",
      "name": "python3"
    },
    "language_info": {
      "codemirror_mode": {
        "name": "ipython",
        "version": 3
      },
      "file_extension": ".py",
      "mimetype": "text/x-python",
      "name": "python",
      "nbconvert_exporter": "python",
      "pygments_lexer": "ipython3",
      "version": "3.9.12"
    },
    "colab": {
      "provenance": []
    }
  },
  "nbformat": 4,
  "nbformat_minor": 5
}